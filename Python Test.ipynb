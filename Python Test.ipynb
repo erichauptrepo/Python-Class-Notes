{
 "cells": [
  {
   "cell_type": "code",
   "execution_count": 10,
   "metadata": {},
   "outputs": [
    {
     "data": {
      "text/plain": [
       "25446.879"
      ]
     },
     "execution_count": 10,
     "metadata": {},
     "output_type": "execute_result"
    }
   ],
   "source": [
    "def q1(radius):\n",
    "    pi= 3.14159\n",
    "    r= radius\n",
    "    sur_area = 4*pi*(r**2)\n",
    "    return(sur_area)\n",
    "\n",
    "\n",
    "\n",
    "\n",
    "q1(45)"
   ]
  },
  {
   "cell_type": "code",
   "execution_count": null,
   "metadata": {},
   "outputs": [],
   "source": [
    "def q1(addr):\n",
    "    ip_range = (\"224.0.0.0\", \"239.255.255.255\")\n",
    "    if addr\n",
    "\n",
    "\n",
    "q1"
   ]
  },
  {
   "cell_type": "code",
   "execution_count": null,
   "metadata": {},
   "outputs": [],
   "source": [
    "def q1():\n",
    "    return list(range(1, 1023+1))\n",
    "\n",
    "\n",
    "q1()"
   ]
  },
  {
   "cell_type": "code",
   "execution_count": 30,
   "metadata": {},
   "outputs": [
    {
     "ename": "KeyError",
     "evalue": "'o'",
     "output_type": "error",
     "traceback": [
      "\u001b[0;31m---------------------------------------------------------------------------\u001b[0m",
      "\u001b[0;31mKeyError\u001b[0m                                  Traceback (most recent call last)",
      "Cell \u001b[0;32mIn[30], line 20\u001b[0m\n\u001b[1;32m     15\u001b[0m     \u001b[39mfor\u001b[39;00m i \u001b[39min\u001b[39;00m number:\n\u001b[1;32m     16\u001b[0m         \u001b[39mlist\u001b[39m\u001b[39m.\u001b[39mappend(words_to_numbers[i[\u001b[39m0\u001b[39m]])\n\u001b[0;32m---> 20\u001b[0m q1(\u001b[39m\"\u001b[39;49m\u001b[39mone, two, three\u001b[39;49m\u001b[39m\"\u001b[39;49m)\n",
      "Cell \u001b[0;32mIn[30], line 16\u001b[0m, in \u001b[0;36mq1\u001b[0;34m(number)\u001b[0m\n\u001b[1;32m      3\u001b[0m words_to_numbers \u001b[39m=\u001b[39m {\n\u001b[1;32m      4\u001b[0m     \u001b[39m'\u001b[39m\u001b[39mone\u001b[39m\u001b[39m'\u001b[39m: \u001b[39m'\u001b[39m\u001b[39m1\u001b[39m\u001b[39m'\u001b[39m,\n\u001b[1;32m      5\u001b[0m     \u001b[39m'\u001b[39m\u001b[39mtwo\u001b[39m\u001b[39m'\u001b[39m: \u001b[39m'\u001b[39m\u001b[39m2\u001b[39m\u001b[39m'\u001b[39m,\n\u001b[0;32m   (...)\u001b[0m\n\u001b[1;32m     13\u001b[0m     \u001b[39m'\u001b[39m\u001b[39mzero\u001b[39m\u001b[39m'\u001b[39m: \u001b[39m'\u001b[39m\u001b[39m0\u001b[39m\u001b[39m'\u001b[39m\n\u001b[1;32m     14\u001b[0m }\n\u001b[1;32m     15\u001b[0m \u001b[39mfor\u001b[39;00m i \u001b[39min\u001b[39;00m number:\n\u001b[0;32m---> 16\u001b[0m     \u001b[39mlist\u001b[39m\u001b[39m.\u001b[39mappend(words_to_numbers[i[\u001b[39m0\u001b[39;49m]])\n",
      "\u001b[0;31mKeyError\u001b[0m: 'o'"
     ]
    }
   ],
   "source": [
    "def q1(number):\n",
    "    lst = []\n",
    "    words_to_numbers = {\n",
    "        'one': '1',\n",
    "        'two': '2',\n",
    "        'three': '3',\n",
    "        'four': '4',\n",
    "        'five': '5',\n",
    "        'six': '6',\n",
    "        'seven': '7',\n",
    "        'eight': '8',\n",
    "        'nine': '9',\n",
    "        'zero': '0'\n",
    "    }\n",
    "    for i in number:\n",
    "        list.append(words_to_numbers[i[0]])\n",
    "\n",
    "\n",
    "\n",
    "q1(\"one, two, three\")"
   ]
  },
  {
   "cell_type": "code",
   "execution_count": 23,
   "metadata": {},
   "outputs": [
    {
     "data": {
      "text/plain": [
       "'242'"
      ]
     },
     "execution_count": 23,
     "metadata": {},
     "output_type": "execute_result"
    }
   ],
   "source": [
    "def q1():\n",
    "    user_input = input(\"Enter a string: \")\n",
    "    newstr = ''.join([i for i in user_input if i.isdigit()])\n",
    "\n",
    "    return int(newstr)\n",
    "\n",
    "\n",
    "\n",
    "\n",
    "\n",
    "\n",
    "\n",
    "q1()"
   ]
  },
  {
   "cell_type": "code",
   "execution_count": null,
   "metadata": {},
   "outputs": [],
   "source": [
    "def q1(addr):\n",
    "    octet_list = addr.split('.')\n",
    "    # Check if there are 4 element in the list\n",
    "    if len(octet_list) == 4:\n",
    "        # Do something here\n",
    "    # Convert the strings to integers\n",
    "        octet1 = int(octet_list[0])\n",
    "\n",
    "    # See if the first octet matches multicast address range\n",
    "    if octet1 >= 224 and octet1 <= 239:\n",
    "        return True\n",
    "    else:\n",
    "        return False\n",
    "\n"
   ]
  },
  {
   "cell_type": "code",
   "execution_count": 28,
   "metadata": {},
   "outputs": [
    {
     "data": {
      "text/plain": [
       "'eric.j.haupt@bob.com'"
      ]
     },
     "execution_count": 28,
     "metadata": {},
     "output_type": "execute_result"
    }
   ],
   "source": [
    "def q1(first,middle,last,domain):\n",
    "    \n",
    "    \n",
    "\n",
    "\n",
    "    return (f\"{first.lower()}.{middle[0].lower()}.{last.lower()}@{domain.lower()}.com\")\n",
    "q1(\"eric\",\"j\",\"haupt\",\"bob\")"
   ]
  },
  {
   "cell_type": "code",
   "execution_count": null,
   "metadata": {},
   "outputs": [],
   "source": [
    "Given a string for a number spelled out as a word, return the number as an integer. The number will only be 'zero', 'one', 'two', 'three', or 'four'.\n",
    "\n",
    "def q1(number):"
   ]
  },
  {
   "cell_type": "code",
   "execution_count": null,
   "metadata": {},
   "outputs": [],
   "source": [
    "def q1(infile,outfile):\n",
    "    with open (infile, 'r') as source, open (outfile, 'w') as destination:\n",
    "        for line in source:\n",
    "            destination.write(line)\n",
    "\n",
    "\n",
    "\n",
    "\n",
    "\n",
    "\n",
    "q1()"
   ]
  },
  {
   "cell_type": "code",
   "execution_count": null,
   "metadata": {},
   "outputs": [],
   "source": [
    "def q1(number):\n",
    "    if number == \"zero\":\n",
    "        return 0\n",
    "    elif number == \"one\":\n",
    "        return 1\n",
    "    elif number == \"two\":\n",
    "        return 2\n",
    "    elif number == \"three\":\n",
    "        return 3\n",
    "    else:\n",
    "        return 4\n"
   ]
  },
  {
   "cell_type": "code",
   "execution_count": null,
   "metadata": {},
   "outputs": [],
   "source": [
    "Attempt to connect to the remote host specified by the given address and port using IPv4 and TCP.\n",
    "If the connection succeeds return True, otherwise return False.\n",
    "NOTE: socket.connect_ex() has been disabled for this function.\n",
    "\n",
    "def q1(address,port):\n",
    "    pass"
   ]
  },
  {
   "cell_type": "code",
   "execution_count": 36,
   "metadata": {},
   "outputs": [
    {
     "data": {
      "text/plain": [
       "('nicholas', 'r', 'yost', 'somedomain')"
      ]
     },
     "execution_count": 36,
     "metadata": {},
     "output_type": "execute_result"
    }
   ],
   "source": [
    "def q1(address):\n",
    "    lst = address.replace(\"@\", \".\").split(\".\")\n",
    "    nlist = lst[:-1]\n",
    "    return tuple(nlist)\n",
    "\n",
    "\n",
    "\n",
    "\n",
    "q1(\"nicholas.r.yost@somedomain.com\")"
   ]
  },
  {
   "cell_type": "code",
   "execution_count": null,
   "metadata": {},
   "outputs": [],
   "source": [
    "import socket # must do this to get all the methods you need for socketing\n",
    "\n",
    "def q1(address, port): #define the function for the client with 2 parameters, server address and port\n",
    "    s = socket.socket() #define a variable to hold the created socket....socket.socket() defaults to an ipv4, tcp socket for the client\n",
    "    s.connect((address, port)) #must include a tuple for the info in .connect (use the passed in parameters from the function)\n",
    "    msg = bytearray(b\"hello\") #create message to send as bytes using bytearray(b\"\"\")\n",
    "    s.sendall(msg)\n",
    "\n",
    "    recv_msg = bytearray()\n",
    "    chunk = s.recv(10) #create a variable to hold the server's bytes... set it to receive 10 bytes of data from the server using s.recv(10)\n",
    "    while chunk:\n",
    "        recv_msg.extend(chunk) #extend the recv_msg holding variable with chunk everytime chunk has data\n",
    "        chunk = s.recv(10) # go back to the server and get the next 10 bytes of data\n",
    "    print(recv_msg)\n"
   ]
  },
  {
   "cell_type": "code",
   "execution_count": null,
   "metadata": {},
   "outputs": [],
   "source": [
    "import socket\n",
    "\n",
    "def q1(address,port):\n",
    "    protocl = socket.IPPROTO_TCP\n",
    "    with socket.socket(socket.AF_INET, socket.SOCK_STREAM, protocl) as s:\n",
    "        s.connect((address, port))\n",
    "        s.sendall(b'hello')\n",
    "        whole_resp = b''\n",
    "        while True:\n",
    "            data = s.recv(4096)\n",
    "            if not data:\n",
    "                break\n",
    "            whole_resp += data\n",
    "    return whole_resp"
   ]
  },
  {
   "cell_type": "code",
   "execution_count": 43,
   "metadata": {},
   "outputs": [
    {
     "ename": "SyntaxError",
     "evalue": "invalid syntax (3047930242.py, line 1)",
     "output_type": "error",
     "traceback": [
      "\u001b[0;36m  Cell \u001b[0;32mIn[43], line 1\u001b[0;36m\u001b[0m\n\u001b[0;31m    here is my task: Connect to the server located by the given arguments using IPv4 and TCP.\u001b[0m\n\u001b[0m               ^\u001b[0m\n\u001b[0;31mSyntaxError\u001b[0m\u001b[0;31m:\u001b[0m invalid syntax\n"
     ]
    }
   ],
   "source": [
    "import socket # must do this to get all the methods you need for socketing\n",
    "\n",
    "def q1(address, port): #define the function for the client with 2 parameters, server address and port\n",
    "    s = socket.socket() #define a variable to hold the created socket....socket.socket() defaults to an ipv4, tcp socket for the client\n",
    "    s.connect((address, port)) #must include a tuple for the info in .connect (use the passed in parameters from the function)\n",
    "    msg = bytearray(b\"hello\") #create message to send as bytes using bytearray(b\"\"\")\n",
    "    s.sendall(msg)\n",
    "\n",
    "    recv_msg = bytearray()\n",
    "    chunk = s.recv(10) #create a variable to hold the server's bytes... set it to receive 10 bytes of data from the server using s.recv(10)\n",
    "    while chunk:\n",
    "        recv_msg.extend(chunk) #extend the recv_msg holding variable with chunk everytime chunk has data\n",
    "        chunk = s.recv(10) # go back to the server and get the next 10 bytes of data\n",
    "    s.close \n",
    "    return recv_msg\n",
    "\n"
   ]
  },
  {
   "cell_type": "code",
   "execution_count": null,
   "metadata": {},
   "outputs": [],
   "source": [
    "recv_msg = bytearray()\n",
    "chunk = s.recv(10) #create a variable to hold the server's bytes... set it to receive 10 bytes of data from the server using s.recv(10)\n",
    "while chunk:\n",
    "    recv_msg.extend(chunk) #extend the recv_msg holding variable with chunk everytime chunk has data\n",
    "    chunk = s.recv(10) # go back to the server and get the next 10 bytes of data\n",
    "s.close \n",
    "return recv_msg"
   ]
  },
  {
   "cell_type": "code",
   "execution_count": 44,
   "metadata": {},
   "outputs": [
    {
     "data": {
      "text/plain": [
       "('haupt', 'tpuah')"
      ]
     },
     "execution_count": 44,
     "metadata": {},
     "output_type": "execute_result"
    }
   ],
   "source": [
    "def q1():\n",
    "    lname = \"haupt\"\n",
    "    newstr = lname.lower()[::-1]\n",
    "\n",
    "\n",
    "\n",
    "\n",
    "    return (lname,newstr)\n",
    "q1()"
   ]
  },
  {
   "cell_type": "code",
   "execution_count": null,
   "metadata": {},
   "outputs": [],
   "source": [
    "def q1(strng):\n",
    "    characters = {}\n",
    "    for char in strng:\n",
    "        if char in characters:\n",
    "            characters[char] += 1\n",
    "        else:\n",
    "            characters[char] = 1\n",
    "    return characters\n"
   ]
  },
  {
   "cell_type": "code",
   "execution_count": null,
   "metadata": {},
   "outputs": [],
   "source": [
    "Return the sum of all arguments (both positional and keyword). You may assume the values of all arguments are integers.\n",
    "\n",
    "def q1(*args,**kwargs):\n",
    "\n",
    "    new = int(args + kwargs)"
   ]
  },
  {
   "cell_type": "code",
   "execution_count": null,
   "metadata": {},
   "outputs": [],
   "source": [
    "def q1(*args,**kwargs):\n",
    "    return sum(args) + sum(kwargs.values())\n"
   ]
  },
  {
   "cell_type": "code",
   "execution_count": null,
   "metadata": {},
   "outputs": [],
   "source": [
    "This is the problem I'm trying to solve:\n",
    "\n",
    "Attempt to connect to the remote host specified by the given address and port using IPv4 and TCP.\n",
    "If the connection succeeds return True, otherwise return False.\n",
    "NOTE: socket.connect_ex() has been disabled for this function.\n",
    "    \n",
    "\n",
    "This is the code I've built. Please tell me what I'm missing"
   ]
  },
  {
   "cell_type": "code",
   "execution_count": 55,
   "metadata": {},
   "outputs": [
    {
     "ename": "SyntaxError",
     "evalue": "invalid syntax (2905535675.py, line 1)",
     "output_type": "error",
     "traceback": [
      "\u001b[0;36m  Cell \u001b[0;32mIn[55], line 1\u001b[0;36m\u001b[0m\n\u001b[0;31m    This is the problem I'm trying to solve:\u001b[0m\n\u001b[0m                ^\u001b[0m\n\u001b[0;31mSyntaxError\u001b[0m\u001b[0;31m:\u001b[0m invalid syntax\n"
     ]
    }
   ],
   "source": [
    "\n",
    "import socket # must do this to get all the methods you need for socketing\n",
    "\n",
    "def q1(address, port): #define the function for the client with 2 parameters, server address and port\n",
    "    s = socket.socket() #define a variable to hold the created socket....socket.socket() defaults to an ipv4, tcp socket for the client\n",
    "    try:\n",
    "        s.connect((address, port))    \n",
    "        msg = bytearray(b\"hello\") \n",
    "        s.sendall(msg)\n",
    "\n",
    "        recv_msg = bytearray()\n",
    "        chunk = s.recv(10)\n",
    "        while chunk:\n",
    "            recv_msg.extend(chunk) \n",
    "            chunk = s.recv(10) \n",
    "        s.close \n",
    "        return(recv_msg)\n",
    "        return True #this is the new line you need to add\n",
    "    except: #this is like except exception\n",
    "        return False  \n"
   ]
  },
  {
   "cell_type": "code",
   "execution_count": null,
   "metadata": {},
   "outputs": [],
   "source": [
    "    try:\n",
    "        s.connect((address, port))    \n",
    "        msg = bytearray(b\"hello\") \n",
    "        s.sendall(msg)\n",
    "\n",
    "        recv_msg = bytearray()\n",
    "        chunk = s.recv(10)\n",
    "        while chunk:\n",
    "            recv_msg.extend(chunk) \n",
    "            chunk = s.recv(10) \n",
    "        s.close \n",
    "        return(recv_msg)\n",
    "        return True #this is the new line you need to add\n",
    "    except: #this is like except exception\n",
    "        return False  \n"
   ]
  },
  {
   "cell_type": "code",
   "execution_count": null,
   "metadata": {},
   "outputs": [],
   "source": [
    "\n",
    "recv_msg = bytearray()\n",
    "chunk = s.recv(10) #create a variable to hold the server's bytes... set it to receive 10 bytes of data from the server using s.recv(10)\n",
    "while chunk:\n",
    "    recv_msg.extend(chunk) #extend the recv_msg holding variable with chunk everytime chunk has data\n",
    "    chunk = s.recv(10) # go back to the server and get the next 10 bytes of data\n",
    "s.close \n",
    "return recv_msg\n"
   ]
  },
  {
   "cell_type": "code",
   "execution_count": 2,
   "metadata": {},
   "outputs": [
    {
     "name": "stdout",
     "output_type": "stream",
     "text": [
      "<class '__main__.car'>\n"
     ]
    }
   ],
   "source": [
    "'''Car Classes'''\n",
    "\n",
    "class car():\n",
    "    def __init__(self): #self will become the isntance we create later\n",
    "        self.speed = 0\n",
    "\n",
    "    def speedup(self, speedup = 1):\n",
    "        self.speed += speedup\n",
    "    \n",
    "    def slowdown(self, slowdown = 1):\n",
    "        if self.speed < 0:\n",
    "            self.speed -= slowdown\n",
    "    \n",
    "    def stop(self):\n",
    "        self.speed = 0\n",
    "    \n",
    "    def getspeed(self):\n",
    "        print(self.speed)\n",
    "    \n",
    "    def setspeed(self, spd):\n",
    "        self.speed = spd\n",
    "    \n",
    "    def __str__(self): #when printing an instance of the car, this runs\n",
    "        return f\"Current speed: {self.speed}\"\n",
    "\n",
    "car1 = (car)\n",
    "print(car1)"
   ]
  },
  {
   "cell_type": "code",
   "execution_count": 3,
   "metadata": {},
   "outputs": [],
   "source": [
    "class car():\n",
    "    def __init__(self): #self will become the isntance we create later\n",
    "        self.speed = 0\n",
    "\n",
    "    def speedup(self):\n",
    "        self.speed += 1\n",
    "    \n",
    "    def slowdown(self):\n",
    "        if self.speed < 0:\n",
    "            self.speed -=1\n",
    "            \n",
    "    def stop(self):\n",
    "        self.speed = 0\n",
    "    \n",
    "    def getspeed(self):\n",
    "        print(self.speed)\n",
    "    \n",
    "    def setspeed(self, spd):\n",
    "        self.speed = spd\n",
    "    \n",
    "    def __str__(self): #when printing an instance of the car, this runs\n",
    "        return f\"Current speed: {self.speed}\""
   ]
  },
  {
   "cell_type": "code",
   "execution_count": null,
   "metadata": {},
   "outputs": [],
   "source": []
  }
 ],
 "metadata": {
  "kernelspec": {
   "display_name": "Python 3",
   "language": "python",
   "name": "python3"
  },
  "language_info": {
   "codemirror_mode": {
    "name": "ipython",
    "version": 3
   },
   "file_extension": ".py",
   "mimetype": "text/x-python",
   "name": "python",
   "nbconvert_exporter": "python",
   "pygments_lexer": "ipython3",
   "version": "3.8.10"
  },
  "orig_nbformat": 4,
  "vscode": {
   "interpreter": {
    "hash": "916dbcbb3f70747c44a77c7bcd40155683ae19c65e1c03b4aa3499c5328201f1"
   }
  }
 },
 "nbformat": 4,
 "nbformat_minor": 2
}
