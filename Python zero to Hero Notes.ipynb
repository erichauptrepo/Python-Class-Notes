{
 "cells": [
  {
   "attachments": {},
   "cell_type": "markdown",
   "metadata": {},
   "source": [
    "Notes Section"
   ]
  },
  {
   "cell_type": "code",
   "execution_count": null,
   "metadata": {},
   "outputs": [],
   "source": [
    "'''\n",
    "=======================================================================================================================================================\n",
    "                                                                  Notes Section\n",
    "=======================================================================================================================================================\n",
    "'''"
   ]
  },
  {
   "cell_type": "code",
   "execution_count": null,
   "metadata": {},
   "outputs": [],
   "source": [
    "1. Variables\n",
    "\n",
    "Variables are containers that store values. They can be assigned any value, such as strings, numbers, or other data types. In Python, variables are created when you assign a value to them, like this:\n",
    "\n",
    "x = 5\n",
    "name = \"John\"\n",
    "In this example, x is assigned the value 5, and name is assigned the string \"John\".\n",
    "\n",
    "\n",
    "\n",
    "\n",
    "2. Data Types\n",
    "\n",
    "In programming, data types refer to the kind of values that a variable can store. In Python, the most common data types are:\n",
    "\n",
    "int: an integer (e.g. 1, 2, 3)\n",
    "float: a floating-point number (e.g. 1.0, 2.5, 3.14)\n",
    "bool: a Boolean value (either True or False)\n",
    "str: a string (e.g. \"hello\", \"world\")\n",
    "You can determine the data type of a variable by using the type() function, like this:\n",
    "\n",
    "print(type(5))    # output: <class 'int'>\n",
    "print(type(2.5))  # output: <class 'float'>\n",
    "print(type(True)) # output: <class 'bool'>\n",
    "print(type(\"hello\")) # output: <class 'str'>\n",
    "\n",
    "\n",
    "\n",
    "\n",
    "3. Operators\n",
    "\n",
    "Operators are symbols or keywords that perform specific operations on variables or values. In Python, some of the most common operators include:\n",
    "\n",
    "Arithmetic operators: + (addition), - (subtraction), * (multiplication), / (division), % (modulus), ** (exponentiation)\n",
    "\n",
    "Comparison operators: == (equal to), != (not equal to), < (less than), > (greater than), <= (less than or equal to), >= (greater than or equal to)\n",
    "\n",
    "Logical operators: and (logical AND), or (logical OR), not (logical NOT)\n",
    "\n",
    "Here's an example of using operators in Python:\n",
    "\n",
    "x = 5\n",
    "y = 2\n",
    "print(x + y)      # output: 7\n",
    "print(x > y)      # output: True\n",
    "print(x == 5 and y == 2)  # output: True\n",
    "\n",
    "\n",
    "4. Loops\n",
    "Loops are used to execute a block of code repeatedly. In Python, there are two types of loops:\n",
    "\n",
    "for loop: used to iterate over a sequence (such as a list or string)\n",
    "\n",
    "fruits = [\"apple\", \"banana\", \"cherry\"]\n",
    "for fruit in fruits:\n",
    "    print(fruit)\n",
    "This code will output:\n",
    "\n",
    "apple\n",
    "banana\n",
    "cherry\n",
    "\n",
    "\n",
    "while loop: used to execute a block of code as long as a certain condition is true\n",
    "\n",
    "i = 0\n",
    "while i < 5:\n",
    "    print(i)\n",
    "    i += 1\n",
    "This code will output:\n",
    "\n",
    "0\n",
    "1\n",
    "2\n",
    "3\n",
    "4"
   ]
  },
  {
   "cell_type": "code",
   "execution_count": null,
   "metadata": {},
   "outputs": [],
   "source": [
    "######### Modulus   ############\n",
    "#    Modulus = the remainder\n",
    "# var = 10 % 6\n",
    "# print (10 % 2)\n",
    "\n",
    "\n",
    "i = 10\n",
    "y = 3\n",
    "x = i % y\n",
    "\n",
    "f\"the remainder of {i} divided by {y} = {x}\""
   ]
  },
  {
   "attachments": {},
   "cell_type": "markdown",
   "metadata": {},
   "source": [
    "Strings"
   ]
  },
  {
   "cell_type": "code",
   "execution_count": null,
   "metadata": {},
   "outputs": [],
   "source": [
    "'''\n",
    "=======================================================================================================================================================\n",
    "                                                                Strings\n",
    "=======================================================================================================================================================\n",
    "'''"
   ]
  },
  {
   "cell_type": "code",
   "execution_count": null,
   "metadata": {},
   "outputs": [],
   "source": [
    "word1 = \"Hello\"\n",
    "Word2 = \"Goodbye\"\n",
    "\n",
    "'''formatted strings (f-string)'''\n",
    "sentence1 = f\"{word1}, nice to meet you! {Word2}!\"\n",
    "\n",
    "# print(sentence1)\n",
    "\n",
    "#######     str.methods90     #####\n",
    "    ###UPPERCASE & lowercase###\n",
    "\n",
    "lowercase_word = word1.lower()\n",
    "uppwercase_word = word1.upper()"
   ]
  },
  {
   "attachments": {},
   "cell_type": "markdown",
   "metadata": {},
   "source": [
    "String Methods'"
   ]
  },
  {
   "cell_type": "code",
   "execution_count": null,
   "metadata": {},
   "outputs": [],
   "source": [
    "'''====================================================================================================================================='''\n",
    "'''String Methods'''\n",
    "'''====================================================================================================================================='''\n",
    "\n",
    "#######     str.methods90     #####\n",
    "    ###Splitting strings apart \"into a list\"##\n",
    "    ##Syntax Flow: variabe.split(\"thing you want to split on\")\n",
    "\n",
    "# print(sentence1)\n",
    "\n",
    "split_on_spaces = sentence1.split()\n",
    "# print(split_on_spaces)\n",
    "split_on_letter_newline_terminators = sentence1.split(\"\\n\")   #splits on each line\n",
    "# print(split_on_letter_newline_terminators)\n",
    "split_on_letter_e = sentence1.split(\"e\")  #NOTE: .split() REMOVES the character it splits on\n",
    "# print(split_on_letter_e)\n",
    "\n",
    "### Example problem ###\n",
    "\n",
    "\n",
    "\n",
    "#### Slicing ####\n",
    "\n",
    "##Syntax: [START:STOP:STEP] [INCLUDED:EXCLUDED:STEP] **Step is how many spots to skip\n",
    "\n",
    "sliced_list = split_email[1:4] # Only shows the index 1 through 4 positions\n",
    "# print(sliced_list) \n",
    "no_last_index = split_email[:-1] # Returns the beginning of the list and omits the very last\n",
    "# print(no_last_index)\n",
    "last_domain = split_email[2:4]\n",
    "print(last_domain)\n",
    "\n",
    "\n",
    "    ###Joining strings##\n",
    "### Makes a LIST into a STRING ###\n",
    "    ### SYNTAX: \"put what will separate the list elements \".join(variable name here)\n",
    "\n",
    "\n",
    "\n",
    "join_words = \"words are hard\"\n",
    "x = join_words.split() #split string into list elements\n",
    "print (x)\n",
    "\n",
    "join_list = \" + \".join(join_words) #joining the list elements into a string\n",
    "print(join_list)\n",
    "\n",
    "\n",
    "\n",
    "    ###Replacing strings##\n",
    "### Makes a LIST into a STRING ###\n",
    "    ### SYNTAX: \"put what will separate the list elements \".join(variable name here)\n",
    "\n",
    "\n",
    "rep_words = \"These.are.the.words.I.need.to.use\"\n",
    "\n",
    "new_rep = rep_words.replace(\".\", \" \")\n",
    "print(new_rep)\n",
    "\n",
    "\n",
    "email = 'first.m.last@domain.com'\n",
    "replaced_email = email.replace(\"@\", \".\") #Replaces @ with .\n",
    "# print(replaced_email)\n",
    "split_email = replaced_email.split(\".\") #make the string a list, split on the periods\n",
    "print(split_email)\n",
    "\n",
    "### Printing Backwards  ###\n",
    "\n"
   ]
  },
  {
   "attachments": {},
   "cell_type": "markdown",
   "metadata": {},
   "source": [
    "User Input"
   ]
  },
  {
   "cell_type": "code",
   "execution_count": null,
   "metadata": {},
   "outputs": [],
   "source": [
    "'''\n",
    "=======================================================================================================================================================\n",
    "                                                                 User Input\n",
    "=======================================================================================================================================================\n",
    "'''"
   ]
  },
  {
   "cell_type": "code",
   "execution_count": null,
   "metadata": {},
   "outputs": [],
   "source": [
    "user_input = input(\"What is your name?\")   #this will store the input as a string in user_input variable\n",
    "\n",
    "user_input_int = int(input(\"What is your age?\"))  #this will store input as an integer\n",
    "\n",
    "print(user_input)\n",
    "print(user_input_int)"
   ]
  },
  {
   "attachments": {},
   "cell_type": "markdown",
   "metadata": {},
   "source": [
    "Classes"
   ]
  },
  {
   "cell_type": "code",
   "execution_count": null,
   "metadata": {},
   "outputs": [],
   "source": [
    "'''\n",
    "=======================================================================================================================================================\n",
    "                                                                 Classes\n",
    "=======================================================================================================================================================\n",
    "'''"
   ]
  },
  {
   "cell_type": "code",
   "execution_count": null,
   "metadata": {},
   "outputs": [],
   "source": [
    "'''Create a class called Drone\n",
    "\n",
    "# Drone instances should store the current_altitude of the elevator\n",
    "# Include a function set_altitude that will accept a parameter to set the desired altitude\n",
    "\n",
    "# Include another function increase_altitude that will increase the altitude by 100, or accept a specific value to increase by\n",
    "\n",
    "# Include another function decrease_altitude that will decrease the altitude by 50, or accept a specific value to decrease by\n",
    "\n",
    "# Include another function land that will return the altitude to 0\n",
    "\n",
    "Provide a conversion to string to return the following: 'Current altitude: ' followed by the current altitude\n",
    "\n",
    "'''\n",
    "class Drone():\n",
    "    \n",
    "    def __init__(self): #self will become the isntance we create later\n",
    "        self.altitude = 0\n",
    "\n",
    "    def increase_altitude(self, alt_up = 100):\n",
    "        self.altitude += alt_up\n",
    "        return f\"Current altitude {self.altitude}\"\n",
    "    \n",
    "    def decrease_altitude(self, alt_down = 50):\n",
    "        if self.altitude < 0:\n",
    "            self.altitude -= alt_down\n",
    "        else:\n",
    "            return f\"Too Low, OSHA has been informed! Current altitude {self.altitude}\"\n",
    "    \n",
    "    def land(self):\n",
    "        self.altitude = 0\n",
    "        return f\"Current altitude {self.altitude}\"\n",
    "    \n",
    "    def current_alt(self):\n",
    "        print(self.altitude)\n",
    "    \n",
    "    def set_altitude(self, alt):\n",
    "        self.altitude = alt\n",
    "        return f\"Current altitude {self.altitude}\"\n",
    "    \n",
    "    def __str__(self): #when printing an instance of the Drone, this runs\n",
    "        return f\"Current altitude {self.altitude}\"\n",
    "\n",
    "drone = Drone()\n",
    "\n",
    "\n",
    "print(drone)\n",
    "drone.increase_altitude(200)\n",
    "drone.decrease_altitude(500)\n",
    "\n"
   ]
  },
  {
   "cell_type": "code",
   "execution_count": null,
   "metadata": {},
   "outputs": [],
   "source": [
    "'''Truck Classes'''\n",
    "\n",
    "class truck1():\n",
    "    def __init__(self, color = \"white\"): #self will become the isntance we create later\n",
    "        self.speed = 0\n",
    "        self.color = color\n",
    "\n",
    "    def speedup(self, speed_up = 1):\n",
    "        self.speed += speed_up\n",
    "    \n",
    "    def slowdown(self, slow_down = 1):\n",
    "        if self.speed < 0:\n",
    "            self.speed -= slow_down\n",
    "    \n",
    "    def stop(self):\n",
    "        self.speed = 0\n",
    "    \n",
    "    def current_speed(self):\n",
    "        print(self.speed)\n",
    "    \n",
    "    def setspeed(self, spd):\n",
    "        self.speed = spd\n",
    "    \n",
    "    def __str__(self): #when printing an instance of the truck, this runs\n",
    "        return f\"The {self.color} truck is moving at {self.speed} MPH\"\n",
    "\n",
    "\n",
    "cyber1 = truck1()\n",
    "\n",
    "print(cyber1)\n",
    "cyber1.speedup()\n",
    "print(cyber1)\n",
    "cyber1.slowdown(500)"
   ]
  },
  {
   "attachments": {},
   "cell_type": "markdown",
   "metadata": {},
   "source": [
    "Sockets"
   ]
  },
  {
   "cell_type": "code",
   "execution_count": null,
   "metadata": {},
   "outputs": [],
   "source": [
    "'''\n",
    "==============================================================================================================================================================================================================\n",
    "                                                                     Sockets\n",
    "==============================================================================================================================================================================================================\n",
    "'''"
   ]
  },
  {
   "cell_type": "code",
   "execution_count": null,
   "metadata": {},
   "outputs": [
    {
     "name": "stdout",
     "output_type": "stream",
     "text": [
      "bytearray(b'Welcome to the server!')\n"
     ]
    }
   ],
   "source": [
    "# Initializing a socket on client to talk with server established\n",
    "#goal is to have client send server message in bytes and receive the server's message in bytes back\n",
    "# the address is in DOTTED DECIMAL NOTATION\n",
    "\n",
    "\n",
    "import socket # must do this to get all the methods you need for socketing\n",
    "\n",
    "def client(srv_address, port): #define the function for the client with 2 parameters, server address and port\n",
    "    s = socket.socket() #define a variable to hold the created socket....socket.socket() defaults to an ipv4, tcp socket for the client\n",
    "    try:\n",
    "        s.connect((srv_address, port)) #must include a tuple for the info in .connect (use the passed in parameters from the function)\n",
    "        msg = bytearray(b\"Hello, do you have a moment to talk about our lord and savior, Doge?\") #create message to send as bytes using bytearray(b\"\"\")\n",
    "        s.sendall(msg)\n",
    "\n",
    "        recv_msg = bytearray()\n",
    "        chunk = s.recv(10) #create a variable to hold the server's bytes... set it to receive 10 bytes of data from the server using s.recv(10)\n",
    "        while chunk:\n",
    "            recv_msg.extend(chunk) #extend the recv_msg holding variable with chunk everytime chunk has data\n",
    "            chunk = s.recv(10) # go back to the server and get the next 10 bytes of data\n",
    "        print(recv_msg)\n",
    "    except: #this is like except exception\n",
    "        return False\n",
    "\n",
    "\n",
    "client(\"10.50.27.107\", 59878)"
   ]
  },
  {
   "cell_type": "code",
   "execution_count": null,
   "metadata": {},
   "outputs": [],
   "source": [
    "class MacAddress:\n",
    "    OUI = {\n",
    "        bytes([0xda, 0xa1, 0x19]): 'Google, Inc.',\n",
    "        bytes([0xca, 0x12, 0x5c]): 'Microsoft Corporation',\n",
    "        bytes([0x3b, 0x35, 0x41]): 'Raspberry Pi (Trading) Ltd',\n",
    "    }\n",
    "\n",
    "    def __init__(self, mac):\n",
    "        self.mac = mac\n",
    "        self.bytes = bytes.fromhex(mac.replace(':', ''))\n",
    "\n",
    "    def is_multicast(self):\n",
    "        return (self.bytes[0] & 0x01) == 1\n",
    "\n",
    "    def organization(self):\n",
    "        oui = self.bytes[:3]\n",
    "        if oui in self.OUI:\n",
    "            return self.OUI[oui]\n",
    "        else:\n",
    "            return 'unknown'\n",
    "\n",
    "    def __str__(self):\n",
    "        return f\"{self.mac} {self.organization()}\""
   ]
  },
  {
   "attachments": {},
   "cell_type": "markdown",
   "metadata": {},
   "source": [
    "PYCore Challenges"
   ]
  },
  {
   "cell_type": "code",
   "execution_count": null,
   "metadata": {},
   "outputs": [],
   "source": [
    "'''\n",
    "=======================================================================================================================================================\n",
    "                                                                  PYCore Challenges\n",
    "=======================================================================================================================================================\n",
    "'''"
   ]
  },
  {
   "cell_type": "code",
   "execution_count": 2,
   "metadata": {},
   "outputs": [],
   "source": [
    "'''01 - Python Activity'''\n",
    "'''Use python to produce code below that will create several named variables with the specified value:\n",
    "\n",
    "Identifier\t            Value\tType\n",
    "hello\t                hello\tstring\n",
    "is_python_awesome\t    true\tboolean\n",
    "days_in_python\t        6\t    integer\n",
    "pie_size\t            3.14\tfloat\n",
    "\n",
    "NOTE: Do not indent your code'''\n",
    "\n",
    "hello = \"hello\"         # create a string variable with value \"hello\"\n",
    "is_python_awesome = True    # create a boolean variable with value True\n",
    "days_in_python = 6       # create an integer variable with value 6\n",
    "pie_size = 3.14         # create a float variable with value 3.14\n",
    "\n",
    "\n",
    "# '''Google Search Terms: \" \" '''\n",
    "\n",
    "# '''Websites:  '''\n",
    "\n",
    "# '''Key words:  '''"
   ]
  },
  {
   "cell_type": "code",
   "execution_count": null,
   "metadata": {},
   "outputs": [],
   "source": [
    "'''02 - Python Activity'''\n",
    "'''Use Python to produce code below that will convert the provided literal (\"Starting Value\"), convert it to the indicated data type by using the appropriate Python Built-in Function(s), and assign the output to the named variable as designated below.'''\n",
    "\n",
    "\n",
    "int_input = int(\"345\")      # Convert the string \"345\" to an integer and assign it to the variable int_input\n",
    "pi_4 = float(\"3.1415\")      # Convert the string \"3.1415\" to a float and assign it to the variable pi_4\n",
    "hours_str = str(40)         # Convert the integer 40 to a string and assign it to the variable hours_str\n",
    "hourly_rate = float(15)     # Convert the integer 15 to a float and assign it to the variable hourly_rate\n",
    "\n",
    "# '''Google Search Terms: \" \" '''\n",
    "\n",
    "# '''Websites:  '''\n",
    "\n",
    "# '''Key words:  '''"
   ]
  },
  {
   "cell_type": "code",
   "execution_count": null,
   "metadata": {},
   "outputs": [],
   "source": [
    "'''03 - Python Activity'''\n",
    "'''Use python to produce code below that will create several named variables with the specified value using math operators:\n",
    "\n",
    "Identifier\t    Value\t                            Type\n",
    "x\t            16\t                                integer\n",
    "y\t            3\t                                integer\n",
    "xysum\t        sum of x and y\t                    integer\n",
    "xydiff\t        difference of x and y\t            integer\n",
    "xyprod\t        product of x and y\t                integer\n",
    "xyquo\t        quotient of x and y\t                float\n",
    "xyintquo\t    integer quotient of x and y\t        integer\n",
    "xymod\t        modulus of x and y\t                integer\n",
    "\n",
    "NOTE: Do not indent your code'''\n",
    "\n",
    "\n",
    "x = 16                  # assign the value 16 to variable x\n",
    "y = 3                   # assign the value 3 to variable y\n",
    "xysum = x + y           # calculate the sum of x and y, and assign the result to variable xysum\n",
    "xydiff = x - y          # calculate the difference between x and y, and assign the result to variable xydiff\n",
    "xyprod = x * y          # calculate the product of x and y, and assign the result to variable xyprod\n",
    "xyquo = x / y           # calculate the quotient of x and y, and assign the result to variable xyquo\n",
    "xyintquo = x // y       # calculate the integer quotient of x and y (floor division), and assign the result to variable xyintquo\n",
    "xymod = x % y           # calculate the modulus of x and y, and assign the result to variable xymod\n",
    "\n",
    "\n",
    "# '''Google Search Terms: \" \" '''\n",
    "\n",
    "# '''Websites:  '''\n",
    "\n",
    "# '''Key words:  '''"
   ]
  },
  {
   "cell_type": "code",
   "execution_count": 3,
   "metadata": {},
   "outputs": [
    {
     "data": {
      "text/plain": [
       "'Key words:  '"
      ]
     },
     "execution_count": 3,
     "metadata": {},
     "output_type": "execute_result"
    }
   ],
   "source": [
    "'''04 - Python Activity'''\n",
    "'''Use python to produce code below that will create several named variables with the specified value using the str.format member function. You may assign any value for the variables other than output. The output variable must use the same boilerplate text and include the appropriate values assigned to the first three.'''\n",
    "'''\n",
    "Identifier\t    Example Value\t                                        Type\n",
    "name\t        Jerry\t                                                str\n",
    "greeting\t    Sir\t                                                    str\n",
    "time\t        noon\t                                                str\n",
    "output\t        Hello Jerry! Sir, will you be arriving by noon?\t        str\n",
    "\n",
    "NOTE: Do not indent your code'''\n",
    "\n",
    "\n",
    "name = 'Jerry'  # assign 'Jerry' to the variable name\n",
    "greeting = 'Sir'  # assign 'Sir' to the variable greeting\n",
    "time = 'noon'  # assign 'noon' to the variable time\n",
    "output = f\"Hello {name}! {greeting}, will you be arriving by {time}?\" # Use f-strings to create the output string with the values of the variables\n",
    "\n",
    "\n",
    "# '''Google Search Terms: \"\" '''\n",
    "\n",
    "# '''Websites:  '''\n",
    "\n",
    "# '''Key words:  '''"
   ]
  },
  {
   "cell_type": "code",
   "execution_count": null,
   "metadata": {},
   "outputs": [],
   "source": [
    "'''05 - Python Activity'''\n",
    "'''Use python to produce code below that will perform the following:\n",
    "\n",
    "Create a variable named sentence and assign the value 'good for all'\n",
    "Turn the sentence variable into a list of individual characters and assign this to a variable named sent_list.\n",
    "Change the first (index 0) character in the list to 'f'\n",
    "Change the last (index -1) character in the list to '?'\n",
    "Combine the list into a new string with periods ('.') in between each character and assign the result to a new variable named output.\n",
    "\n",
    "NOTE: Do not indent your code'''\n",
    "\n",
    "\n",
    "\n",
    "sentence = 'good for all' # Create a variable called 'sentence' and assign the string 'good for all' to it\n",
    "\n",
    "sent_list = list(sentence) # Convert the string into a list of individual characters and assign it to a new variable called 'sent_list'\n",
    "\n",
    "sent_list[0] = 'f' # Change the first character of the list to 'f'\n",
    "\n",
    "sent_list[-1] = '?' # Change the last character of the list to '?'\n",
    "\n",
    "output = '.'.join(sent_list) # Combine the list into a new string with periods between each character and assign it to a new variable called 'output'\n",
    "\n",
    "print(output)\n",
    "\n",
    "# '''Google Search Terms: \"\" '''\n",
    "\n",
    "# '''Websites:  '''\n",
    "\n",
    "# '''Key words:  '''"
   ]
  },
  {
   "cell_type": "code",
   "execution_count": null,
   "metadata": {},
   "outputs": [],
   "source": [
    "'''00 - Mailbox Maintenance'''\n",
    "'''Use python to produce code below that will:\n",
    "\n",
    "Given an email address in email\n",
    "Convert the email into a list named `lst'\n",
    "The list will contain all individual parts of the email\n",
    "Example: email = 'alan.m.turing@genius.com' -> lst = ['alan','m','turing', 'genius', 'com']\n",
    "NOTE: A variable named email will be available to your code when running.\n",
    "NOTE: You must create a variable named lst which contains the required data.\n",
    "NOTE: Do not indent your code'''\n",
    "\n",
    "\n",
    "\n",
    "lst = email.replace(\"@\", \".\").split(\".\") #replaces the \"@\" character with a \".\" character, then splits the resulting string by \".\" to create a list of substrings.\n",
    "\n",
    "# '''Google Search Terms: \"\" '''\n",
    "\n",
    "# '''Websites:  '''\n",
    "\n",
    "# '''Key words:  '''"
   ]
  },
  {
   "cell_type": "code",
   "execution_count": null,
   "metadata": {},
   "outputs": [],
   "source": [
    "'''06 - Python Activity'''\n",
    "'''Use python to produce code below that will perform the following:\n",
    "\n",
    "Read multiple numbers separated by spaces on the same line from the user.\n",
    "Change all spaces to a plus sign.\n",
    "Print the resulting string to the user.\n",
    "NOTE: Do not indent your code'''\n",
    "\n",
    "\n",
    "user_input = input(\"Enter Numbers\") # read input from user and store in variable named user_input\n",
    "print(user_input.replace(\" \", \"+\")) # replace all spaces with plus sign in the user_input and print\n",
    "\n",
    "\n",
    "# '''Google Search Terms: \"\" '''\n",
    "\n",
    "# '''Websites:  '''\n",
    "\n",
    "# '''Key words:  '''"
   ]
  },
  {
   "cell_type": "code",
   "execution_count": null,
   "metadata": {},
   "outputs": [],
   "source": [
    "#CTF Activity 6 - Alternate\n",
    "\n",
    "                                    #create a user input for taking in numbers and assign it to the variable user_input\n",
    "user_input = input(\"Type here\")\n",
    "                                    #replace the spaces stored in variable \"user_input\" with pluses, store the modifications in \"modified_input\" variable\n",
    "modified_input = user_input.replace(\" \",\"+\")\n",
    "                                    #print the \"modified_input\" variable\n",
    "print(modified_input)"
   ]
  },
  {
   "cell_type": "code",
   "execution_count": null,
   "metadata": {},
   "outputs": [],
   "source": [
    "#CTF Activity 6 - Alternate\n",
    "\n",
    "                                    #create a user input for taking in numbers and assign it to the variable user_input\n",
    "user_input = input(\"Enter Numbers Here: \")\n",
    "                                    #change all spaces in the entry to a plus sign, print the replacement\n",
    "print(user_input.replace(\" \", \"+\"))"
   ]
  },
  {
   "cell_type": "code",
   "execution_count": null,
   "metadata": {},
   "outputs": [],
   "source": [
    "'''06 - Python Activity ALTERNATIVE'''\n",
    "\n",
    "print(input(\"Type in Multiple Numbers\").replace(\" \", \"+\"))"
   ]
  },
  {
   "cell_type": "code",
   "execution_count": null,
   "metadata": {},
   "outputs": [],
   "source": [
    "'''07 - Python Activity'''\n",
    "'''Use python to produce code below that will perform the following:\n",
    "\n",
    "Read input from the user, the input will be an integer.\n",
    "Determine which of the following categories the number fits into an print this to the user:\n",
    "Negative Even\n",
    "Negative Odd\n",
    "Zero\n",
    "Positive Even\n",
    "Positive Odd'''\n",
    "\n",
    "# read an integer from user\n",
    "num = int(input(\"Enter an integer: \"))\n",
    "\n",
    "# check if the number is zero\n",
    "if num == 0:\n",
    "    print(\"Zero\")\n",
    "\n",
    "# check if the number is negative and even\n",
    "elif num < 0 and num % 2 == 0:\n",
    "    print(\"Negative Even\")\n",
    "\n",
    "# check if the number is negative and odd\n",
    "elif num < 0 and num % 2 != 0:\n",
    "    print(\"Negative Odd\")\n",
    "\n",
    "# check if the number is positive and even\n",
    "elif num > 0 and num % 2 == 0:\n",
    "    print(\"Positive Even\")\n",
    "\n",
    "# check if the number is positive and odd\n",
    "else:\n",
    "    print(\"Positive Odd\")\n",
    "\n",
    "\n",
    "\n",
    "# '''Google Search Terms: \"\" '''\n",
    "\n",
    "# '''Websites:  '''\n",
    "\n",
    "# '''Key words:  '''"
   ]
  },
  {
   "cell_type": "code",
   "execution_count": 14,
   "metadata": {},
   "outputs": [
    {
     "name": "stdout",
     "output_type": "stream",
     "text": [
      "22\n"
     ]
    }
   ],
   "source": [
    "'''00A - Fizz Buzz'''\n",
    "'''FizzBuzz is an interview question that is said to filter out 99.5% of programming job candidates.\n",
    "\n",
    "Add code so that it takes a number from the user and prints it (the number) if it isnt divisible by 3 or 5. For multiples of 3 print 'fizz' instead. For multiples of 5 print 'buzz' instead. For multiples of 3 and 5 print 'fizzbuzz'.'''\n",
    "\n",
    "\n",
    "\n",
    "user_input = int((input(\"Enter a number \"))) #get user input and make it an integer\n",
    "if int(user_input) % 3 == 0 and user_input % 5 == 0: # check to see if the user input is divisible by both 3 and 5\n",
    "    print(\"fizzbuzz\")\n",
    "elif int(user_input) % 3 == 0: # check to see if user input is divisible by only 3\n",
    "    print(\"fizz\")\n",
    "elif int(user_input) % 5 == 0: # check to see if user input is divisible by only 5\n",
    "    print(\"buzz\")\n",
    "else:\n",
    "    print(user_input) # Just print then umber if it's not divisible by any of them\n",
    "\n",
    "\n",
    "# '''Google Search Terms: \"\" '''\n",
    "\n",
    "# '''Websites:  '''\n",
    "\n",
    "# '''Key words:  '''"
   ]
  },
  {
   "cell_type": "code",
   "execution_count": 15,
   "metadata": {},
   "outputs": [
    {
     "data": {
      "text/plain": [
       "9"
      ]
     },
     "execution_count": 15,
     "metadata": {},
     "output_type": "execute_result"
    }
   ],
   "source": [
    "'''08 - Python Activity'''\n",
    "'''Use python to produce code below that will perform the following:\n",
    "\n",
    "Create a function named domath that will accept 3 parameters.\n",
    "The function will add the first two parameters and multiply this sum by the third parameter.\n",
    "You can select the identifiers for each of the parameters.\n",
    "The resulting product will be returned to the caller.'''\n",
    "\n",
    "def domath(a,b,c):\n",
    "    return ((a + b) * c)\n",
    "\n",
    "domath(1,2,3)\n",
    "\n",
    "\n",
    "# '''Google Search Terms: \"\" '''\n",
    "\n",
    "# '''Websites:  '''\n",
    "\n",
    "# '''Key words:  '''"
   ]
  },
  {
   "cell_type": "code",
   "execution_count": null,
   "metadata": {},
   "outputs": [],
   "source": [
    "'''09 - Python Activity'''\n",
    "'''Use python to produce code below that will perform the following:\n",
    "\n",
    "Read multiple lines from the user on standard input until an empty string is read.\n",
    "Return a list of all these lines without line terminators\n",
    "Each line should be reversed from how it is read in.'''\n",
    "\n",
    "def reverseit():\n",
    "    lst = []\n",
    "    while True:\n",
    "        user_input = input(\"Input Text Here\")\n",
    "        if user_input == '':\n",
    "            break\n",
    "        lst.append(user_input[::-1])\n",
    "    return(lst)\n",
    "reverseit()\n",
    "\n",
    "\n",
    "\n",
    "\n",
    "\n",
    "def reverseit():\n",
    "    lst =[]\n",
    "    while True:\n",
    "        u_input = input(\"Enter Text: \")\n",
    "        if u_input == \"\":\n",
    "            break\n",
    "        lst.append(u_input[::-1])\n",
    "    return(lst)\n",
    "reverseit()\n",
    "\n",
    "\n",
    "\n",
    "\n",
    "# '''Google Search Terms: \"\" '''\n",
    "\n",
    "# '''Websites:  '''\n",
    "\n",
    "# '''Key words:  '''"
   ]
  },
  {
   "cell_type": "code",
   "execution_count": 21,
   "metadata": {},
   "outputs": [
    {
     "name": "stdout",
     "output_type": "stream",
     "text": [
      "Too Low, try again\n",
      "Too Low, try again\n",
      "Too Low, try again\n",
      "Too High, try again\n",
      "WIN\n"
     ]
    }
   ],
   "source": [
    "'''00B - Guess Number'''\n",
    "'''Modify code below and implement guess_number so that it repeatedly asks the user for a number between 0 and 100, inclusive.\n",
    "If the user correctly guesses the value of the given argument n, print 'WIN' and return. Otherwise, indicate whether the guess was too high or too low.'''\n",
    "\n",
    "def guess_number(n):\n",
    "    while True:\n",
    "        user_input = int(input(\"Guess a number: \"))\n",
    "        if int(user_input) == n:\n",
    "            print(\"WIN\")\n",
    "            return\n",
    "        elif int(user_input) < n:\n",
    "            print(\"Too Low, try again\")\n",
    "        elif int(user_input) > n:\n",
    "            print( \"Too High, try again\")\n",
    "\n",
    "guess_number(23)\n",
    "\n",
    "# '''Google Search Terms: \"\" '''\n",
    "\n",
    "# '''Websites:  '''\n",
    "\n",
    "# '''Key words:  '''"
   ]
  },
  {
   "cell_type": "code",
   "execution_count": 22,
   "metadata": {},
   "outputs": [
    {
     "data": {
      "text/plain": [
       "'AbCdEf gHiJkL'"
      ]
     },
     "execution_count": 22,
     "metadata": {},
     "output_type": "execute_result"
    }
   ],
   "source": [
    "'''10 - Python Activity'''\n",
    "'''Given a mixed case string as parameter s\n",
    "Capitalize every letter with an even index within the string.\n",
    "Lowercase every letter with an odd index within the string.\n",
    "Return the resulting string.\n",
    "Example - Given: \"ABCDEF ghijkl\" Return: \"AbCdEf gHiJkL\"'''\n",
    "\n",
    "def leetString(s):\n",
    "    lst = []\n",
    "    for i in range(len(s)):\n",
    "        if i % 2 == 0:\n",
    "            lst.append(s[i].upper())\n",
    "        else:\n",
    "            lst.append(s[i].lower())\n",
    "    return \"\".join(lst)\n",
    "leetString(\"ABCDEF ghijkl\")\n",
    "\n",
    "\n",
    "# '''Google Search Terms: \"\" '''\n",
    "\n",
    "# '''Websites:  '''\n",
    "\n",
    "# '''Key words:  '''"
   ]
  },
  {
   "cell_type": "code",
   "execution_count": 23,
   "metadata": {},
   "outputs": [
    {
     "data": {
      "text/plain": [
       "'AbCdEf gHiJkL'"
      ]
     },
     "execution_count": 23,
     "metadata": {},
     "output_type": "execute_result"
    }
   ],
   "source": [
    "'''10 - Python Activity ALTERNATE'''\n",
    "\n",
    "\n",
    "def leetString(s):\n",
    "    new_string = \"\"\n",
    "    for i in range(len(s)):\n",
    "        if i % 2 == 0:\n",
    "            new_string += s[i].upper()\n",
    "        else:\n",
    "            new_string += s[i].lower()\n",
    "    return new_string\n",
    "leetString(\"ABCDEF ghijkl\")"
   ]
  },
  {
   "cell_type": "code",
   "execution_count": null,
   "metadata": {},
   "outputs": [],
   "source": [
    "'''11 - Python Activity'''\n",
    "'''Use python to produce code that will perform the following:\n",
    "\n",
    "First, print out every even number on a separate line from provided parameter first to parameter last, inclusive.\n",
    "Next, print out every odd number from first to last, inclusive.'''\n",
    "\n",
    "\n",
    "# This needs two separate for loops to change separate the printouts\n",
    "\n",
    "def evensandodds(first, last):\n",
    "    for i in range(first, last+1):\n",
    "        if i % 2 == 0:\n",
    "            print(f\"{i}\")\n",
    "    for i in range(first, last+1):\n",
    "        if i % 2 != 0:\n",
    "            print(f\"{i}\")   \n",
    "\n",
    "\n",
    "\n",
    "evensandodds(1, 10)\n",
    "\n",
    "\n",
    "\n",
    "# '''Google Search Terms: \"\" '''\n",
    "\n",
    "# '''Websites:  '''\n",
    "\n",
    "# '''Key words:  '''"
   ]
  },
  {
   "cell_type": "code",
   "execution_count": 7,
   "metadata": {},
   "outputs": [
    {
     "data": {
      "text/plain": [
       "'me,you,steve,dave'"
      ]
     },
     "execution_count": 7,
     "metadata": {},
     "output_type": "execute_result"
    }
   ],
   "source": [
    "'''12 - Python Activity'''\n",
    "'''def user_io():\n",
    "    Returns a list of items read from the user until the user enters an empty string.\n",
    "\n",
    "    Args:\n",
    "        None\n",
    "    Returns:\n",
    "        list: a list of strings\n",
    "    ''' \n",
    "\n",
    "def user_io():\n",
    "    lst = [] #create the list container\n",
    "    while True: #While True loop to keep inputs going until user stops it by entering nothing\n",
    "\n",
    "        user_input = input(\"Type an Item here\") #user input inside the loop\n",
    "        if user_input == \"\": #kills the input if user enters nothing\n",
    "            break # kill loop\n",
    "        lst.append(user_input) #add the input to the list\n",
    "\n",
    "    return (lst)\n",
    "user_io()\n",
    "\n",
    "# '''Google Search Terms: \"\" '''\n",
    "\n",
    "# '''Websites:  '''\n",
    "\n",
    "# '''Key words:  '''"
   ]
  },
  {
   "cell_type": "code",
   "execution_count": 9,
   "metadata": {},
   "outputs": [
    {
     "data": {
      "text/plain": [
       "(10, 20, 30, 40, 50, 60, 70, 80, 90, 100)"
      ]
     },
     "execution_count": 9,
     "metadata": {},
     "output_type": "execute_result"
    }
   ],
   "source": [
    "'''13 - Python Activity'''\n",
    "'''def make_tuple():\n",
    "     Returns a tuple of the multiples of 10 from 1 to 100 inclusive.\n",
    "     Args:\n",
    "         None\n",
    "     Returns:\n",
    "         tuple: a tuple of the multiples of 10 from 1 to 100 inclusive\n",
    "     pass    '''\n",
    "\n",
    "\n",
    "def make_tuple():\n",
    "    return(tuple(range(10,101,10)))\n",
    "make_tuple()\n",
    "\n",
    "# '''Google Search Terms: \"\" '''\n",
    "\n",
    "# '''Websites:  https://www.geeksforgeeks.org/range-to-a-list-in-python/ '''\n",
    "\n",
    "# '''Key words:  range to list'''"
   ]
  },
  {
   "cell_type": "code",
   "execution_count": 13,
   "metadata": {},
   "outputs": [
    {
     "data": {
      "text/plain": [
       "(10, 20, 30, 40, 50, 60, 70, 80)"
      ]
     },
     "execution_count": 13,
     "metadata": {},
     "output_type": "execute_result"
    }
   ],
   "source": [
    "'''13-1 - Python Activity'''\n",
    "'''def make_tuple(a,b):\n",
    "    Returns a tuple of the multiples of 10 from a to b inclusive.\n",
    "    Args:\n",
    "        None\n",
    "    Returns:\n",
    "        tuple: a tuple of the multiples of 10 from a to b inclusive\n",
    "    '''    \n",
    "def make_tuple(a,b):\n",
    "    lst =[]\n",
    "    for i in range(a,b+1):\n",
    "        if i % 10 == 0:\n",
    "            lst.append(i)\n",
    "        \n",
    "    return(tuple(lst))\n",
    "\n",
    "\n",
    "make_tuple(4, 86)\n",
    "\n",
    "\n",
    "# '''Google Search Terms: \"\" '''\n",
    "\n",
    "# '''Websites:  '''\n",
    "\n",
    "# '''Key words:  '''"
   ]
  },
  {
   "cell_type": "code",
   "execution_count": null,
   "metadata": {},
   "outputs": [],
   "source": [
    "'''13-1 - Python Activity - ALTERNATIVE (EFFICIENT)'''\n",
    "\n",
    "return tuple(i for i in range(a, b+1) if i % 10 == 0)"
   ]
  },
  {
   "cell_type": "code",
   "execution_count": null,
   "metadata": {},
   "outputs": [],
   "source": [
    "'''14 - Python Activity'''\n",
    "'''def strings():\n",
    "    Returns a tuple of the following two strings:\n",
    "\n",
    "    \n",
    "\n",
    "    Physics is the universe's operating system\n",
    "\n",
    "    Args:\n",
    "        None\n",
    "    Returns:\n",
    "        tuple: a tuple of strings'''\n",
    "\n",
    "def strings():\n",
    "    return (\"\", \"Physics is the universe's operating system\")\n",
    "strings()\n",
    "\n",
    "# '''Google Search Terms: \"\" '''\n",
    "\n",
    "# '''Websites:  '''\n",
    "\n",
    "# '''Key words:  '''"
   ]
  },
  {
   "cell_type": "code",
   "execution_count": 15,
   "metadata": {},
   "outputs": [
    {
     "data": {
      "text/plain": [
       "([1, 2, 3, 4, 5], [6, 7, 8, 9, 0])"
      ]
     },
     "execution_count": 15,
     "metadata": {},
     "output_type": "execute_result"
    }
   ],
   "source": [
    "'''15 - Python Activity'''\n",
    "'''\n",
    "    Returns a tuple of the given list split into two equally sized halves.\n",
    "    The given list will always consist of an even number of elements.\n",
    "    Args:\n",
    "        lst (lst): a list of elements\n",
    "    Returns:\n",
    "        tuple: a tuple of two lists\n",
    "    '''\n",
    "\n",
    "def disect(lst):\n",
    "    #find the length value of the list and divide by 2 and store the number as \"half\"\n",
    "    half = len(lst) //2 \n",
    "    #return a list that is all the items in the list up to the half number, then return a list that is all the items in the list AFTER the half number\n",
    "    return (lst[:half], lst[half:])\n",
    "disect([1,2,3,4,5,6,7,8,9,0])\n",
    "\n",
    "\n",
    "\n",
    "# '''Google Search Terms: \"python split in half\" '''\n",
    "\n",
    "# '''Websites:  https://www.geeksforgeeks.org/python-split-given-string-into-equal-halves/  '''\n",
    "\n",
    "# '''Key words:  '''"
   ]
  },
  {
   "cell_type": "code",
   "execution_count": 17,
   "metadata": {},
   "outputs": [
    {
     "data": {
      "text/plain": [
       "'lareneg rojam nredom a fo ledom yrev eht ma I'"
      ]
     },
     "execution_count": 17,
     "metadata": {},
     "output_type": "execute_result"
    }
   ],
   "source": [
    "'''16 - Python Activity'''\n",
    "'''\n",
    "    Returns a copy of the given string reversed\n",
    "    Args:\n",
    "        strng (str): a string of alphanumeric characters\n",
    "    Returns:\n",
    "        str: a copy of the given string reversed\n",
    "'''\n",
    "\n",
    "def reverse_string(strng):\n",
    "    #::-1 goes backwards from the last position\n",
    "    return strng[::-1]\n",
    "\n",
    "\n",
    "\n",
    "reverse_string(\"I am the very model of a modern major general\")\n",
    "# '''Google Search Terms: reverse a string in python\" '''\n",
    "\n",
    "# '''Websites:  https://www.geeksforgeeks.org/reverse-string-python-5-different-ways/\n",
    "#               https://www.w3schools.com/python/python_howto_reverse_string.asp '''\n",
    "\n",
    "# '''Key words:  '''"
   ]
  },
  {
   "cell_type": "code",
   "execution_count": null,
   "metadata": {},
   "outputs": [],
   "source": [
    "'''17 - Python Activity'''\n",
    "'''Return a list of ordinals for every character in the given string\n",
    "\n",
    "Hint: https://docs.python.org/3/library/functions.html#ord\n",
    "'''\n",
    "\n",
    "\n",
    "def code_points(strng):\n",
    "    return [ord(i) for i in strng]\n",
    "        \n",
    "code_points(\"I am the very Model of a modern Major General\")\n",
    "\n",
    "\n",
    "\n",
    "\n",
    "# '''Google Search Terms: \"\" '''\n",
    "\n",
    "# '''Websites:  '''\n",
    "\n",
    "# '''Key words:  '''"
   ]
  },
  {
   "cell_type": "code",
   "execution_count": null,
   "metadata": {},
   "outputs": [],
   "source": [
    "'''18 - Python Activity'''\n",
    "'''Use python to produce code below that will perform the following:\n",
    "\n",
    "Read file specified by the path in inpath parameter and write all lines to the file specified by the outpath parameter.\n",
    "Before writing out each line, add the line number starting with 1 follow by colon and space.\n",
    "'''\"All CTF Activities Repo.ipynb\"\n",
    "\n",
    "\n",
    "def linenums(inpath, outpath):\n",
    "    #open the inpath as readable only and call it \"input\", open the outpath as writeable and call it \"output\"\n",
    "    with open (inpath, 'r') as input, open(outpath, 'w') as output:\n",
    "        #iterate through the file lines, use i as the number and line as the line\n",
    "        for i, line in enumerate(input, 1):\n",
    "            #write the the number and line to the output file\n",
    "            output.write(f\"{i}: {line}\")\n",
    "\n",
    "\n",
    "linenums()\n",
    "\n",
    "\n",
    "\n",
    "# '''Google Search Terms: \"\" '''\n",
    "\n",
    "# '''Websites:  '''\n",
    "\n",
    "# '''Key words:  '''"
   ]
  },
  {
   "cell_type": "code",
   "execution_count": null,
   "metadata": {},
   "outputs": [],
   "source": [
    "def linenums(inpath, outpath):\n",
    "        with open(inpath, 'r') as source, open(outpath, 'w') as destination:\n",
    "            lnum = 1\n",
    "            for line in source:\n",
    "                destination.write(lnum,\": \", source.read())\n",
    "                lnum = lnum +1"
   ]
  },
  {
   "cell_type": "code",
   "execution_count": null,
   "metadata": {},
   "outputs": [],
   "source": [
    "'''18-1 - The Little Orphan Annie Special'''\n",
    "'''    \"Sometimes my cousin is just mean. He sent me a file with a special message but made it into a crazy series of ones and zeros. He told me each letter was on its own line, and could be converted into an Unicode character. Can you help me by decoding his message?\"\n",
    "\n",
    "Each line will be a string character. You will need to convert the string Ones and Zeros into an integer (but these are not base 10, so keep that in mind) and then pass that data to code that will convert it to its corresponding Unicode character. Thanks to Python's \"batteries included\" philosophy, there are two Python built-in functions that can help handle this for you.\n",
    "\n",
    "    Args:\n",
    "        fname (str): path to a file where the input is located\n",
    "    Returns:\n",
    "        str: Sentence that was decoded\n",
    "    '''\n",
    "#split the string into a list\n",
    "#convert the lines into unicode \n",
    "\n",
    "def tough_read(fname):\n",
    "    with open (fname, 'r') as source:\n",
    "        lst = []\n",
    "        for line in source:\n",
    "            code = chr(int(line.strip(), base=2))\n",
    "            lst.append(code)\n",
    "        return (\"\".join(lst))\n",
    "tough_read() \n",
    "\n",
    "\n",
    "# '''Google Search Terms: \"\" '''\n",
    "\n",
    "# '''Websites:  '''\n",
    "\n",
    "# '''Key words:  '''"
   ]
  },
  {
   "cell_type": "code",
   "execution_count": null,
   "metadata": {},
   "outputs": [],
   "source": [
    "'''18-2 Feeling Cute...Might Delete Later'''\n",
    "'''\"You have a artist friend that likes to jot down some inspirational words when the mood strikes. These fits of inspiration always have a theme that they need to remember with the messages. Your friend needs some help keeping track. Read each of the inspirational messages from the user and write them to the end of the file specified by fname. Since the theme is important and must be remembered, add the theme and a colon before each message and ensure each inspirational message is on its own line. An empty input will indicate no more entries and the end of the theme.\"\n",
    "\n",
    "Example:\n",
    "\n",
    "If theme was \"Razzmatazz\", and the input from the user was \"I like nonsense; it wakes up the brain cells. - Dr. Seuss\", the resulting string would be formated as follows: Razzmatazz:I like nonsense; it wakes up the brain cells. - Dr. Seuss\n",
    "\n",
    "Important:\n",
    "\n",
    "What if there are other lines to be added? What else seperates lines in a file? What needs to be added to the example line above?\n",
    "Do not overwrite the file. What mode should you open the file in?'''\n",
    "\n",
    "#open the fname file\n",
    "#loop through the user inputs while the input isn't empty\n",
    "#if it is empty, break out of the loop\n",
    "#file.write the theme and the message as Theme : message \\n\n",
    "\n",
    "\n",
    "def log_to_file(fname, theme):\n",
    "    with open(fname, 'a') as file:\n",
    "        while True:\n",
    "            message = input(\"Type your message and theme\")\n",
    "            if message == '':\n",
    "                break\n",
    "            file.write(theme + ':' + message + '\\n')\n",
    "\n",
    "log_to_file()\n",
    "\n",
    "\n",
    "\n",
    "# '''Google Search Terms: \"\" '''\n",
    "\n",
    "# '''Websites:  '''\n",
    "\n",
    "# '''Key words:  '''"
   ]
  },
  {
   "cell_type": "code",
   "execution_count": null,
   "metadata": {},
   "outputs": [],
   "source": [
    "'''18-3 The Replacements'''\n",
    "'''Use Python to produce code below that will convert the provided literal (\"Starting Value\"), convert it to the indicated data type by using the appropriate Python Built-in Function(s), and assign the output to the named variable as designated below.'''\n",
    "\n",
    "\n",
    "\n",
    "\n",
    "# '''Google Search Terms: \"\" '''\n",
    "\n",
    "# '''Websites:  '''\n",
    "\n",
    "# '''Key words:  '''"
   ]
  },
  {
   "cell_type": "code",
   "execution_count": null,
   "metadata": {},
   "outputs": [],
   "source": [
    "'''02 - Python Activity'''\n",
    "'''Use Python to produce code below that will convert the provided literal (\"Starting Value\"), convert it to the indicated data type by using the appropriate Python Built-in Function(s), and assign the output to the named variable as designated below.'''\n",
    "\n",
    "\n",
    "\n",
    "\n",
    "# '''Google Search Terms: \"\" '''\n",
    "\n",
    "# '''Websites:  '''\n",
    "\n",
    "# '''Key words:  '''"
   ]
  },
  {
   "cell_type": "code",
   "execution_count": null,
   "metadata": {},
   "outputs": [],
   "source": [
    "'''02 - Python Activity'''\n",
    "'''Use Python to produce code below that will convert the provided literal (\"Starting Value\"), convert it to the indicated data type by using the appropriate Python Built-in Function(s), and assign the output to the named variable as designated below.'''\n",
    "\n",
    "\n",
    "\n",
    "\n",
    "# '''Google Search Terms: \"\" '''\n",
    "\n",
    "# '''Websites:  '''\n",
    "\n",
    "# '''Key words:  '''"
   ]
  },
  {
   "cell_type": "code",
   "execution_count": null,
   "metadata": {},
   "outputs": [],
   "source": [
    "'''02 - Python Activity'''\n",
    "'''Use Python to produce code below that will convert the provided literal (\"Starting Value\"), convert it to the indicated data type by using the appropriate Python Built-in Function(s), and assign the output to the named variable as designated below.'''\n",
    "\n",
    "\n",
    "\n",
    "\n",
    "# '''Google Search Terms: \"\" '''\n",
    "\n",
    "# '''Websites:  '''\n",
    "\n",
    "# '''Key words:  '''"
   ]
  },
  {
   "cell_type": "code",
   "execution_count": null,
   "metadata": {},
   "outputs": [],
   "source": [
    "'''02 - Python Activity'''\n",
    "'''Use Python to produce code below that will convert the provided literal (\"Starting Value\"), convert it to the indicated data type by using the appropriate Python Built-in Function(s), and assign the output to the named variable as designated below.'''\n",
    "\n",
    "\n",
    "\n",
    "\n",
    "# '''Google Search Terms: \"\" '''\n",
    "\n",
    "# '''Websites:  '''\n",
    "\n",
    "# '''Key words:  '''"
   ]
  },
  {
   "cell_type": "code",
   "execution_count": null,
   "metadata": {},
   "outputs": [],
   "source": [
    "'''02 - Python Activity'''\n",
    "'''Use Python to produce code below that will convert the provided literal (\"Starting Value\"), convert it to the indicated data type by using the appropriate Python Built-in Function(s), and assign the output to the named variable as designated below.'''\n",
    "\n",
    "\n",
    "\n",
    "\n",
    "# '''Google Search Terms: \"\" '''\n",
    "\n",
    "# '''Websites:  '''\n",
    "\n",
    "# '''Key words:  '''"
   ]
  },
  {
   "cell_type": "code",
   "execution_count": null,
   "metadata": {},
   "outputs": [],
   "source": [
    "'''02 - Python Activity'''\n",
    "'''Use Python to produce code below that will convert the provided literal (\"Starting Value\"), convert it to the indicated data type by using the appropriate Python Built-in Function(s), and assign the output to the named variable as designated below.'''\n",
    "\n",
    "\n",
    "\n",
    "\n",
    "# '''Google Search Terms: \"\" '''\n",
    "\n",
    "# '''Websites:  '''\n",
    "\n",
    "# '''Key words:  '''"
   ]
  },
  {
   "cell_type": "code",
   "execution_count": null,
   "metadata": {},
   "outputs": [],
   "source": [
    "'''02 - Python Activity'''\n",
    "'''Use Python to produce code below that will convert the provided literal (\"Starting Value\"), convert it to the indicated data type by using the appropriate Python Built-in Function(s), and assign the output to the named variable as designated below.'''\n",
    "\n",
    "\n",
    "\n",
    "\n",
    "# '''Google Search Terms: \"\" '''\n",
    "\n",
    "# '''Websites:  '''\n",
    "\n",
    "# '''Key words:  '''"
   ]
  },
  {
   "cell_type": "code",
   "execution_count": null,
   "metadata": {},
   "outputs": [],
   "source": [
    "'''02 - Python Activity'''\n",
    "'''Use Python to produce code below that will convert the provided literal (\"Starting Value\"), convert it to the indicated data type by using the appropriate Python Built-in Function(s), and assign the output to the named variable as designated below.'''\n",
    "\n",
    "\n",
    "\n",
    "\n",
    "# '''Google Search Terms: \"\" '''\n",
    "\n",
    "# '''Websites:  '''\n",
    "\n",
    "# '''Key words:  '''"
   ]
  },
  {
   "cell_type": "code",
   "execution_count": null,
   "metadata": {},
   "outputs": [],
   "source": [
    "'''02 - Python Activity'''\n",
    "'''Use Python to produce code below that will convert the provided literal (\"Starting Value\"), convert it to the indicated data type by using the appropriate Python Built-in Function(s), and assign the output to the named variable as designated below.'''\n",
    "\n",
    "\n",
    "\n",
    "\n",
    "# '''Google Search Terms: \"\" '''\n",
    "\n",
    "# '''Websites:  '''\n",
    "\n",
    "# '''Key words:  '''"
   ]
  },
  {
   "cell_type": "code",
   "execution_count": null,
   "metadata": {},
   "outputs": [],
   "source": []
  },
  {
   "cell_type": "code",
   "execution_count": null,
   "metadata": {},
   "outputs": [],
   "source": [
    "    '''27 - Python Activity\n",
    "    Read all lines from file in `filepath` and return a list of all lines in case-insensitive ASCII order.\n",
    "    Remove all linebreaks before sorting.\n",
    "       \n",
    "    Args:\n",
    "        filepath (str): The path to the file\n",
    "    Returns:\n",
    "        list : lines from input file sorted into ASCII order without linebreaks\n",
    "    '''\n",
    "\n",
    "\n",
    "\n",
    "def sort_ascii(filepath):\n",
    "\n",
    "    with open(filepath, 'r', encoding='utf-8') as file:    # Open the file located at `filepath` in read mode and read all lines into a list\n",
    "        lines = file.read().splitlines()\n",
    "\n",
    "\n",
    "    lines = [line.rstrip() for line in lines]     # Remove linebreaks from each line in the list\n",
    "\n",
    "\n",
    "    sorted_lines = sorted(lines, key=lambda x: x.lower())     # Sort the list of lines in ASCII order, case-insensitive\n",
    "\n",
    "    return sorted_lines\n",
    "\n",
    "sort_ascii('extrawaffles.txt')\n",
    "\n"
   ]
  },
  {
   "cell_type": "code",
   "execution_count": 48,
   "metadata": {},
   "outputs": [
    {
     "name": "stdout",
     "output_type": "stream",
     "text": [
      "('0b11110100001001000000', '0o3641100', '0xf4240')\n"
     ]
    },
    {
     "data": {
      "text/plain": [
       "[1000000, 1000000, 1000000, 1000000]"
      ]
     },
     "execution_count": 48,
     "metadata": {},
     "output_type": "execute_result"
    }
   ],
   "source": [
    "'''120 - Like a million, literally'''\n",
    "'''Use Python to produce code below that will convert the provided literal (\"Starting Value\"), convert it to the indicated data type by using the appropriate Python Built-in Function(s), and assign the output to the named variable as designated below.'''\n",
    "\n",
    "def numsys(startint):\n",
    "    return (bin(startint), oct(startint), hex(startint))\n",
    "    pass\n",
    "\n",
    "def getints(binnum, octnum, decnum, hexnum):\n",
    "    lst = []\n",
    "    lst.append(int(binnum, base = 2))\n",
    "    lst.append(int(octnum, base = 8))\n",
    "    lst.append(int(decnum, base = 10))\n",
    "    lst.append(int(hexnum, base = 16))\n",
    "    return (lst)\n",
    "    pass\n",
    "\n",
    "def literals():\n",
    "    literal_list = []\n",
    "    literal_list.append (0b11110100001001000000)\n",
    "    literal_list.append (0o3641100)\n",
    "    literal_list.append (1000000)\n",
    "    literal_list.append (0xf4240)\n",
    "    return literal_list\n",
    "    pass\n",
    "\n",
    "\n",
    "\n",
    "\n",
    "\n",
    "\n",
    "\n",
    "\n",
    "\n",
    "literals()\n",
    "print(numsys (1000000))\n",
    "getints(\"0b11110100001001000000\", \"0o3641100\", \"1000000\", \"0xf4240\")\n",
    "\n",
    "\n",
    "# '''Google Search Terms: \"\" '''\n",
    "\n",
    "# '''Websites:  '''\n",
    "\n",
    "# '''Key words:  '''"
   ]
  },
  {
   "attachments": {},
   "cell_type": "markdown",
   "metadata": {},
   "source": [
    "Practice Test 2"
   ]
  },
  {
   "cell_type": "code",
   "execution_count": null,
   "metadata": {},
   "outputs": [],
   "source": [
    "'''\n",
    "=======================================================================================================================================================\n",
    "                                                                  Practice Test 2\n",
    "=======================================================================================================================================================\n",
    "'''"
   ]
  },
  {
   "cell_type": "code",
   "execution_count": 29,
   "metadata": {},
   "outputs": [
    {
     "data": {
      "text/plain": [
       "'strategy on masterpiece a as accepted is it'"
      ]
     },
     "execution_count": 29,
     "metadata": {},
     "output_type": "execute_result"
    }
   ],
   "source": [
    "'''01 - Mirror mirror'''\n",
    "'''Given a string of multiple words separated by single spaces, return a new string with the sentence reversed. The words themselves should remain as they are.'''\n",
    "'''For example, given 'it is accepted as a masterpiece on strategy', the returned string should be 'strategy on masterpiece a as accepted is it'.'''\n",
    "\n",
    "\n",
    "def q1(sentence): #creating my function container, using \"sentence\" as the parameter holding the argument\n",
    "    lst = sentence.split()  #splitting the words in the sentence variable into a list\n",
    "    lst.reverse() #reverse the entry order of list\n",
    "    return \" \".join(lst) # join the reversed list back into a string\n",
    "q1(\"it is accepted as a masterpiece on strategy\")\n",
    "\n",
    "#should look like strategy on masterpiece a as accepted is it\n",
    "#returning a new string w/ sentence reverse\n",
    "#BUT the words shouldn't be backwards\n",
    "\n",
    "\n",
    "# '''Google Search Terms: \"python reverse only the words, not the letters in a string\" '''\n",
    "\n",
    "# '''Websites:  https://stackoverflow.com/questions/34128842/how-to-reverse-the-order-of-the-words-in-a-string '''\n",
    "\n",
    "# '''Key words: python reverse the words a sentence string , .reverse  '''"
   ]
  },
  {
   "cell_type": "code",
   "execution_count": 17,
   "metadata": {},
   "outputs": [
    {
     "data": {
      "text/plain": [
       "'strategy on masterpiece a as accepted is it'"
      ]
     },
     "execution_count": 17,
     "metadata": {},
     "output_type": "execute_result"
    }
   ],
   "source": [
    "'''01 - Mirror mirror - Alternative Method that I like'''\n",
    "'''Given a string of multiple words separated by single spaces, return a new string with the sentence reversed. The words themselves should remain as they are.'''\n",
    "'''For example, given 'it is accepted as a masterpiece on strategy', the returned string should be 'strategy on masterpiece a as accepted is it'.'''\n",
    "\n",
    "def q1(sentence):\n",
    "\n",
    "    # split the sentence into a list of words\n",
    "    words = sentence.split()\n",
    "\n",
    "    # reverse the order of the words\n",
    "    words.reverse()\n",
    "\n",
    "    # join the reversed words into a new sentence\n",
    "    reversed_sentence = \" \".join(words)\n",
    "\n",
    "    return reversed_sentence\n",
    "\n",
    "q1(\"it is accepted as a masterpiece on strategy\")\n",
    "\n",
    "# '''Google Search Terms: \"python reverse a sentence\" '''\n",
    "\n",
    "# '''Websites:  https://www.codespeedy.com/reverse-words-in-a-given-string-in-python/  '''\n",
    "\n",
    "# '''Key words: python reverse the words a sentence string , .reverse  '''\n",
    "\n",
    "\n"
   ]
  },
  {
   "cell_type": "code",
   "execution_count": null,
   "metadata": {},
   "outputs": [],
   "source": [
    "'''02 - Sprinkle some commas in there'''\n",
    "'''Given a positive integer, return its string representation with commas separating groups of 3 digits.'''\n",
    "\n",
    "\n",
    "def q1(n): #creating my function with a parameter as \"n\"\n",
    "    return f\"{n:,}\" #returning n with commas using innate python....don't ask...don't know\n",
    "q1(65535)\n",
    "\n",
    "\n",
    "\n",
    " #NOTE:   f\"{n:.2f}\" use .2f or .5f will make it a float and the number defines how many decimals out it goes\n",
    "\n",
    "# '''Google Search Terms: \"python return string with commas in numbers\" '''\n",
    "\n",
    "# '''Websites:  https://www.geeksforgeeks.org/print-number-commas-1000-separators-python/  '''\n",
    "\n",
    "# '''Key words: comma separate commas '''"
   ]
  },
  {
   "cell_type": "code",
   "execution_count": 31,
   "metadata": {},
   "outputs": [
    {
     "data": {
      "text/plain": [
       "[9, 8, 5, 4, 3, 1]"
      ]
     },
     "execution_count": 31,
     "metadata": {},
     "output_type": "execute_result"
    }
   ],
   "source": [
    "'''03 - Bring it together and make it pretty'''\n",
    "'''Given two lists of integers, return a sorted list that contains all integers from both lists in descending order.'''\n",
    "\n",
    "\n",
    "def q1(lst0, lst1): #create my function with two parameters to be filled by the call\n",
    "    lst2 = lst0 + lst1 #combine two lists...simple\n",
    "    lst2.sort(reverse=True)\n",
    "    return(lst2)\n",
    "\n",
    "q1([3,4,9],[8,1,5])\n",
    "\n",
    "\n",
    "#should look like [9,8,5,4,3,1]\n",
    "#Combine two lists together\n",
    "#reorder the combined list in descending order\n",
    "\n",
    "# '''Google Search Terms: \"python sort list in descending order\" '''\n",
    "\n",
    "# '''Websites:  https://www.geeksforgeeks.org/python-list-sort-method/   '''\n",
    "\n",
    "# '''Key words:  '''"
   ]
  },
  {
   "cell_type": "code",
   "execution_count": null,
   "metadata": {},
   "outputs": [],
   "source": [
    "'''04 - Pass GO and collect $200'''\n",
    "'''Given 3 scores in the range [0-100] inclusive, return 'GO' if the average score is greater than 50. Otherwise return 'NOGO'.'''\n",
    "\n",
    "def q1(s1,s2,s3):\n",
    "\n",
    "    avg = (s1 + s2 + s3) / 3 # Calculate the average of the three scores\n",
    "\n",
    "    # Check if the average is greater than 50 and return 'GO' or 'NOGO' accordingly\n",
    "    if avg > 50:\n",
    "        return \"GO\"\n",
    "    else:\n",
    "        return \"NOGO\"\n",
    "\n",
    "\n",
    "q1()\n",
    "\n",
    "\n",
    "# '''Google Search Terms: \"python find the average of a set of numbers\" '''\n",
    "\n",
    "# '''Websites:  https://www.geeksforgeeks.org/python-list-sort-method/   '''\n",
    "\n",
    "# '''Key words:  find average, '''"
   ]
  },
  {
   "cell_type": "code",
   "execution_count": 1,
   "metadata": {},
   "outputs": [
    {
     "data": {
      "text/plain": [
       "[0, 6, 12, 18, 24, 30]"
      ]
     },
     "execution_count": 1,
     "metadata": {},
     "output_type": "execute_result"
    }
   ],
   "source": [
    "'''05 - 50ccs of multiples, stat!'''\n",
    "'''Given an integer and limit, return a list of even multiples of the integer up to and including the limit.'''\n",
    "'''For example, if integer = 3 and limit = 30, the returned list should be [0,6,12,18,24,30]. Note, 0 is a multiple of any integer except 0 itself.'''\n",
    "\n",
    "def q1(integer, limit):\n",
    "    lst=[] #Create an empty list to fill, this stores the even multiples of integer\n",
    " \n",
    "    for i in range(0, limit+1, integer*2): #for loop to iterate from 0 up to the limit, counting in steps of the integer *2. the multiplication of 2 means you can never have anything other than an even multiple of the integer.\n",
    "        lst.append(i) #each iteration appends the list with the value of i\n",
    "    return lst # return the completed list\n",
    "\n",
    "q1(3, 30)\n",
    "\n",
    "#should look like [0,6,12,18,24,30]\n",
    "#return a list of even multiples of the integer variable stopping at the limit variable\n",
    "\n",
    "\n",
    "\n",
    "# '''Google Search Terms: \"return list of multiples of an integer up to a given limit\" '''\n",
    "\n",
    "# '''Websites:  https://stackoverflow.com/questions/69405984/how-to-find-multiples-of-a-number-in-a-range-without-loop   '''\n",
    "\n",
    "# '''Key words:  find average, '''"
   ]
  },
  {
   "cell_type": "code",
   "execution_count": null,
   "metadata": {},
   "outputs": [],
   "source": [
    "'''05 - 50ccs of multiples, stat! -- ALTERNATIVE'''\n",
    "'''Given an integer and limit, return a list of even multiples of the integer up to and including the limit.\n",
    "\n",
    "For example, if integer = 3 and limit = 30, the returned list should be [0,6,12,18,24,30]. Note, 0 is a multiple of any integer except 0 itself.'''\n",
    "\n",
    "\n",
    "def q1(integer, limit):\n",
    "    #make list\n",
    "    lst = []\n",
    "    # define the range (inclusive to the limit (+1))\n",
    "    for x in range(limit+1):\n",
    "        if x % integer == 0:\n",
    "            lst.append(x)\n",
    "    return lst\n",
    "\n",
    "\n",
    "q1(3, 30)\n",
    "\n",
    "\n",
    "#What does it want: Return a LIST of the integer's multiples up to (and including) the limit\n",
    "#should look like [0,6,12,18,24,30]"
   ]
  },
  {
   "cell_type": "code",
   "execution_count": null,
   "metadata": {},
   "outputs": [],
   "source": [
    "'''07 - Is this the imposter'''\n",
    "'''As you iterate through the given list, return the first duplicate value you come across.\n",
    "For example, if given [5,7,9,1,3,7,9,5], the returned value should be 7.'''\n",
    "\n",
    "\n",
    "def q1(lst):\n",
    "    dup = set()  #make a set to fill in from the list\n",
    "    for i in lst: # for every indext position in the given list\n",
    "        if i in dup: # if the indexed position is in the dup set\n",
    "            return i # return the number of txzhe indexed position\n",
    "        else:\n",
    "            dup.add(i) # otherwise add it to the dup set & loop\n",
    "\n",
    "\n",
    "\n",
    "q1([5,7,9,1,3,7,9,5])\n",
    "\n",
    "# '''Google Search Terms: \"python return first duplicate value in a list\" '''\n",
    "\n",
    "# '''Websites: https://stackoverflow.com/questions/45252243/finding-the-first-duplicate-element-in-an-ordered-list '\n",
    "# OR           \n",
    "#              https://stackoverflow.com/questions/52434942/solving-the-firstduplicate-question-in-python   '''\n",
    "\n",
    "# '''Key words:  reverse set.add(), .add(), .add, '''"
   ]
  },
  {
   "cell_type": "code",
   "execution_count": 14,
   "metadata": {},
   "outputs": [
    {
     "data": {
      "text/plain": [
       "1"
      ]
     },
     "execution_count": 14,
     "metadata": {},
     "output_type": "execute_result"
    }
   ],
   "source": [
    "'''08 - Maybe it has the biggest wheels'''\n",
    "'''Given a sentence as a string with words being separated by a single space, return the length of the shortest word.'''\n",
    "\n",
    "'''What it's Asking me to Do:\n",
    "# Read length of each word in a string\n",
    "# split the string\n",
    "# find the length of each word\n",
    "# find the shortest word\n",
    "# return length of shortest word'''\n",
    "\n",
    "\n",
    "def q1(strng): #create the funtion q1 with a parameter of strng\n",
    "    shortest = min(strng.split(), key=len) # Split the input string into a list of words and find the shortest word using the key function len... Key is to ensure we are comparing the actual lengths of the words, and not just the strings\n",
    "    return(len(shortest))  # Return the length of the shortest word\n",
    "q1(\"I am the very model of a modern Major General\") # Call the q1 function with the input string\n",
    "\n",
    "\n",
    "\n",
    "\n",
    "\n",
    "# '''Google Search Terms: \"python find  and return the length of the shortest word in a string \" '''\n",
    "\n",
    "# '''Websites: https://stackoverflow.com/questions/47113916/find-the-length-shortest-word-in-a-string-in-python\n",
    "\n",
    "# '''Key words:  len, shortest word, longest word'''\n",
    "# NOTE: You could find the largest word by using = max(strng.split(), key=len)"
   ]
  },
  {
   "cell_type": "code",
   "execution_count": 27,
   "metadata": {},
   "outputs": [
    {
     "data": {
      "text/plain": [
       "'a'"
      ]
     },
     "execution_count": 27,
     "metadata": {},
     "output_type": "execute_result"
    }
   ],
   "source": [
    "'''09 - There's some character in there'''\n",
    "'''Given an alphanumeric string, return the character whose ascii value is that of the integer represenation of all of the digits in the string concatenated in the order in which they appear.'''\n",
    "\n",
    "'''For example, given 'hell9oworld7', the returned character should be 'a' which has the ascii value of 97'''\n",
    "\n",
    "def q1(strng):\n",
    "    lst = [] # Create an empty list to store the digits in the input string\n",
    "    for i in strng:  # Iterate over the characters in the input string\n",
    "        if i.isdigit(): # Check if the current character is a digit\n",
    "            lst.append(i) # If it is, append it to the list of digits\n",
    "    nlist = \"\".join(lst) # Concatenate the list of digits into a single string\n",
    "    return (chr(int(nlist))) # Convert the string of digits into an integer and then into a character using the chr() function\n",
    "\n",
    "q1(\"hell9oworld7\")\n",
    "\n",
    "# '''Google Search Terms: \"return list of multiples of an integer up to a given limit\" '''\n",
    "\n",
    "# '''Websites:  https://stackoverflow.com/questions/69405984/how-to-find-multiples-of-a-number-in-a-range-without-loop   '''\n",
    "\n",
    "# '''Key words:  find average, '''"
   ]
  },
  {
   "cell_type": "code",
   "execution_count": 6,
   "metadata": {},
   "outputs": [
    {
     "data": {
      "text/plain": [
       "'None'"
      ]
     },
     "execution_count": 6,
     "metadata": {},
     "output_type": "execute_result"
    }
   ],
   "source": [
    "'''10 - In other words, non-sequential'''\n",
    "'''Given a list of positive integers sorted in ascending order, return the first non-consecutive value. If all values are consecutive, return None'''\n",
    "\n",
    "'''For example, given [1,2,3,4,6,7], the returned value should be 6'''\n",
    "\n",
    "\n",
    "\n",
    "def q1(arr): #the fuction takes in a list (arr) of positive integers sorted in assending order\n",
    "    for i, j in enumerate(arr, arr[0]): # use enumerate() to loop loop through the list with index i and value j, starting at the value of the first element\n",
    "        if i != j: #for each element in the list, check if the index (i) is not equal to the value (j). \n",
    "            return j #If it is not, return the value of j as the first non-consecutive value.\n",
    "    return \"None\" # if we get through the whole list, it returns None\n",
    "\n",
    "q1([1,2,3,4,5,6,7])\n",
    "\n"
   ]
  },
  {
   "attachments": {},
   "cell_type": "markdown",
   "metadata": {},
   "source": [
    "PyPractice V1"
   ]
  },
  {
   "cell_type": "code",
   "execution_count": null,
   "metadata": {},
   "outputs": [],
   "source": [
    "'''\n",
    "=======================================================================================================================================================\n",
    "                                                                  PyPracticeV1\n",
    "=======================================================================================================================================================\n",
    "'''"
   ]
  },
  {
   "cell_type": "code",
   "execution_count": null,
   "metadata": {},
   "outputs": [],
   "source": [
    "'''01 - Whatever floats your boat'''\n",
    "'''Given the floatstr, which is a comma separated string of floats, return a list with each of the floats in the argument as elements in the list.\n",
    "\n",
    "floaststr example = '3.2', '3222.4', '1093.2', '544.0' '''\n",
    "\n",
    " #create a list container\n",
    " # split the string into a new list\n",
    " #fill the container list with the floats\n",
    " #make sure they're floats when you return them\n",
    "\n",
    "\n",
    "\n",
    "\n",
    "def q1(floatstr):\n",
    "     #create a list container\n",
    "    new_lst =[]\n",
    "    # split the string into a new list\n",
    "    lst = floatstr.split(\",\")\n",
    "    for i in lst:\n",
    "        new_lst.append(float(i))\n",
    "    return (new_lst)\n",
    "\n",
    "\n",
    "\n",
    "\n",
    "q1('3.2, 3222.4, 1093.2, 544.0')\n",
    "\n",
    "\n"
   ]
  },
  {
   "cell_type": "code",
   "execution_count": null,
   "metadata": {},
   "outputs": [],
   "source": [
    "'''02 - Better than average'''\n",
    "\n",
    "'''Given the variable length argument list, return the average of all the arguments as a float'''\n",
    "\n",
    "\n",
    "def q1(*args):\n",
    "    avg = (sum(args)) / (len(args))\n",
    "    return avg\n",
    "\n",
    "q1(1,4,7,23,55,100)\n",
    "\n",
    "# '''Google Search Terms: \"python return average of variable length arguments in a list\" '''\n",
    "\n",
    "# '''Websites:  https://www.geeksforgeeks.org/find-average-list-python/   '''\n",
    "\n",
    "# '''Key words:  return average, '''"
   ]
  },
  {
   "cell_type": "code",
   "execution_count": null,
   "metadata": {},
   "outputs": [],
   "source": [
    "'''03 - It's the end that is important'''\n",
    "'''Given a list (lst) and a number of items (n), return a new list containing the last n entries in lst.'''\n",
    "\n",
    "\n",
    "#take the last n entries from lst and put them in a new list\n",
    "\n",
    "\n",
    "def q1(lst, n):\n",
    "\n",
    "    nlist = lst[-n:]\n",
    "    return nlist\n",
    "\n",
    "q1([1,4,5,\"steve\", 15],2)\n",
    "\n",
    "\n",
    "# '''Google Search Terms: \"python take the last n entries from list and put them in a new list\" '''\n",
    "\n",
    "# '''Websites:  https://www.geeksforgeeks.org/python-get-last-n-elements-from-given-list/  '''\n",
    "\n",
    "# '''Key words:  slicing '''"
   ]
  },
  {
   "cell_type": "code",
   "execution_count": null,
   "metadata": {},
   "outputs": [],
   "source": [
    "'''04 - Is there a way to put this into numbers'''\n",
    "'''Given an input string, return a list containing the ordinal numbers of each character in the string in the order found in the input string.'''\n",
    "\n",
    "\n",
    "def q1(strng):\n",
    "\n",
    "    lst =[] # create holder container list\n",
    "    for i in strng: # iterate through each index point in the string\n",
    "        lst.append(ord(i)) # add the ordinal value of each index point in the string to the list\n",
    "    return lst # return the list\n",
    "\n",
    "q1('Huawei')\n",
    "\n",
    "# '''Google Search Terms: \"\"\n",
    "\n",
    "# '''Websites:    '''\n",
    "\n",
    "# '''Key words:  ordinal values, append list, for loop'''"
   ]
  },
  {
   "cell_type": "code",
   "execution_count": null,
   "metadata": {},
   "outputs": [],
   "source": [
    "'''05 - Say it a little slower'''\n",
    "'''Given an input string, return a tuple with each element in the tuple containing a single word from the input string in order.'''\n",
    "\n",
    "\n",
    "def q1(strng):\n",
    "    lst = strng.split(\" \") # Split the string by spaces and put the elements into lst\n",
    "    return tuple(lst) # make lst a tuple and return it\n",
    "    \n",
    "\n",
    "\n",
    "\n",
    "q1(\"I am the very image of a modern Major General\")"
   ]
  },
  {
   "cell_type": "code",
   "execution_count": 39,
   "metadata": {},
   "outputs": [
    {
     "data": {
      "text/plain": [
       "2540.45"
      ]
     },
     "execution_count": 39,
     "metadata": {},
     "output_type": "execute_result"
    }
   ],
   "source": [
    "'''06 - This megahertz'''\n",
    "'''Given a dictionary (catalog) whose keys are product names and values are product prices per unit and a list of tuples (order) of product names and quantities, compute and return the total value of the order.'''\n",
    "\n",
    "# Final result is to RETURN the total cost/value\n",
    "\n",
    "# take the item and quantity in the order (list)\n",
    "\n",
    "# match the item from order to the item in the catalog to get the price from the catalog\n",
    "\n",
    "# multiply the quantity in order by the price in catalog to get the total value for each item\n",
    "\n",
    "# iterate that for the total number of items in the order\n",
    "\n",
    "\n",
    "def q6(catalog, order):\n",
    "    total_value = 0.0\n",
    "    for i in order:\n",
    "        total_value += i[1] * catalog[i[0]]\n",
    "    return total_value\n",
    "\n",
    "\n",
    "\n",
    "q6({'AMD Ryzen 5 5600X': 289.99, 'Intel Core i9-9900K': 363.50, 'AMD Ryzen 9 5900X': 569.99}, [('AMD Ryzen 5 5600X', 5), ('Intel Core i9-9900K', 3)])"
   ]
  },
  {
   "cell_type": "code",
   "execution_count": 14,
   "metadata": {},
   "outputs": [
    {
     "data": {
      "text/plain": [
       "14"
      ]
     },
     "execution_count": 14,
     "metadata": {},
     "output_type": "execute_result"
    }
   ],
   "source": [
    "'''07 - Alexa, how long is the first line?'''\n",
    "'''Given a filename, open the file and return the length of the first line in the file excluding the line terminator.'''\n",
    "\n",
    "#open the file (with open)\n",
    "#read the first line .readline()\n",
    "#strip the line terminator .strip(\"\\n\")\n",
    "#return the length of the first line\n",
    "\n",
    "def q1(filename):\n",
    "    with open(filename, 'r') as input:\n",
    "        length = len(input.readline().strip(\"\\n\"))\n",
    "\n",
    "        return length\n",
    "\n",
    "q1('waffles.txt')\n",
    "\n",
    "\n",
    "# '''Google Search Terms: \"read first line of a file python\" '''\n",
    "\n",
    "# '''Websites: https://stackoverflow.com/questions/1904394/read-only-the-first-line-of-a-file\n",
    "\n",
    "# '''Key words:  read first line strip''"
   ]
  },
  {
   "cell_type": "code",
   "execution_count": 25,
   "metadata": {},
   "outputs": [],
   "source": [
    "'''08 - Let us memorialize this todo list'''\n",
    "'''Given a filename and a list, write each entry from the list to the file on separate lines until a case-insensitive entry of \"stop\" is found in the list. If \"stop\" is not found in the list, write the entire list to the file on separate lines.'''\n",
    "\n",
    "#open the filename as writeable\n",
    "# check each line in the list for \"stop\" (.lower)\n",
    "# if not stop, then write each line in the list (for i in lst) to the file\n",
    "\n",
    "\n",
    "def q1(filename, lst):\n",
    "    stop_found = False #set variable for finding \"stop\" to false\n",
    "    with open(filename, \"w\") as file: #open the file as writeable\n",
    "        for i in lst: # initiate for loop to iterate through the list to check for the stop\n",
    "            if i.lower() == \"stop\": # check if stop is found (case insensitive)\n",
    "                stop_found = True #set stop_found to true if stop was found\n",
    "                break\n",
    "            file.write(i + \"\\n\") #write the item to the list if  not \"stop\"\n",
    "        if not stop_found: #check to see if \"stop\" was found, if it wasn't write all the items in the list to the file\n",
    "            for i in lst:\n",
    "                file.write(i + \"\\n\")\n",
    "\n",
    "q1(\"extrawaffles.txt\", [\"item 1\", \"spoon\", \"Item 3\", \"stop\"])\n"
   ]
  },
  {
   "cell_type": "code",
   "execution_count": 33,
   "metadata": {},
   "outputs": [
    {
     "data": {
      "text/plain": [
       "'Good Morning'"
      ]
     },
     "execution_count": 33,
     "metadata": {},
     "output_type": "execute_result"
    }
   ],
   "source": [
    "'''09 - What is the greeting of the day'''\n",
    "'''Given the military time in the argument miltime, return a string containing the greeting of the day.'''\n",
    "''' 0300-1159 \"Good Morning\"\n",
    "    1200-1559 \"Good Afternoon\"\n",
    "    1600-2059 \"Good Evening\"\n",
    "    2100-0259 \"Good Night\"'''\n",
    "\n",
    "\n",
    "    \n",
    "\n",
    "def q1(militime):\n",
    "    if militime >= 300 and militime < 1200:\n",
    "        return \"Good Morning\"\n",
    "    elif militime >= 1200 and militime < 1600:\n",
    "        return \"Good Afternoon\"\n",
    "    elif militime >=1600 and militime < 2100:\n",
    "        return \"Good Evening\"\n",
    "    else:\n",
    "        return \"Good Night\"\n",
    "\n",
    "q1(1159)"
   ]
  },
  {
   "cell_type": "code",
   "execution_count": 41,
   "metadata": {},
   "outputs": [
    {
     "data": {
      "text/plain": [
       "False"
      ]
     },
     "execution_count": 41,
     "metadata": {},
     "output_type": "execute_result"
    }
   ],
   "source": [
    "'''10 - Why so negative'''\n",
    "'''Given the argument numlist as a list of numbers, return True if all numbers in the list are NOT negative. If any numbers in the list are negative, return False.'''\n",
    "\n",
    "# Pull in a list of numbers\n",
    "# iterate through the list (for loop)\n",
    "# ID if any numbers are negative\n",
    "    # return false if there's a negative in the list\n",
    "# return true if there is NOT a negative\n",
    "\n",
    "\n",
    "def q1(numlist):\n",
    "    for i in numlist:\n",
    "        if i < 0:\n",
    "            return False\n",
    "    return True\n",
    "\n",
    "q1([1,2,3,-4,5,6,7])"
   ]
  },
  {
   "attachments": {},
   "cell_type": "markdown",
   "metadata": {},
   "source": [
    "PyCore-10 Challenges"
   ]
  },
  {
   "cell_type": "code",
   "execution_count": null,
   "metadata": {},
   "outputs": [],
   "source": [
    "'''\n",
    "=======================================================================================================================================================\n",
    "                                                                  PYCore-10 Challenges\n",
    "=======================================================================================================================================================\n",
    "'''"
   ]
  },
  {
   "cell_type": "code",
   "execution_count": null,
   "metadata": {},
   "outputs": [],
   "source": [
    "'''105 - Python Activity'''\n",
    "\n",
    "'''Implement a class named Calculator\n",
    "\n",
    "__init__ should not take additional arguments and should be used to initialize the internal state.\n",
    "Provide add, sub, mul, and div member functions and each accepts two operands\n",
    "The last result must be available for the next operation.\n",
    "A single memory value must also be available.\n",
    "Provide a store function to store the current last result to memory\n",
    "Provide a recall function to recall the current memory value into the last result\n",
    "Each member function can use the following as values to each math operation:\n",
    "A number for a normal operation\n",
    "An empty string '' to denote the last result\n",
    "'memory' to denote the memory location\n",
    "Each member function must return the numeric result of the operation\n",
    "String conversion of a Calculator instance should be the last result as a string\n",
    "All values provided will be valid and should be handled.\n",
    "#!/usr/bin/env python3\n",
    "\n",
    "class Calculator:\n",
    "    \n",
    "    def __init__(self):\n",
    "        pass\n",
    "'''\n",
    "\n",
    "\n",
    "class Calculator:\n",
    "    def __init__(self):\n",
    "        self.last_result = 0\n",
    "        self.memory = 0\n",
    "        \n",
    "    def add(self, op1, op2):\n",
    "        op1_val = self._get_value(op1)\n",
    "        op2_val = self._get_value(op2)\n",
    "        self.last_result = op1_val + op2_val\n",
    "        return self.last_result\n",
    "        \n",
    "    def sub(self, op1, op2):\n",
    "        op1_val = self._get_value(op1)\n",
    "        op2_val = self._get_value(op2)\n",
    "        self.last_result = op1_val - op2_val\n",
    "        return self.last_result\n",
    "        \n",
    "    def mul(self, op1, op2):\n",
    "        op1_val = self._get_value(op1)\n",
    "        op2_val = self._get_value(op2)\n",
    "        self.last_result = op1_val * op2_val\n",
    "        return self.last_result\n",
    "        \n",
    "    def div(self, op1, op2):\n",
    "        op1_val = self._get_value(op1)\n",
    "        op2_val = self._get_value(op2)\n",
    "        if op2_val == 0:\n",
    "            raise ValueError(\"Cannot divide by zero\")\n",
    "        self.last_result = op1_val / op2_val\n",
    "        return self.last_result\n",
    "        \n",
    "    def store(self):\n",
    "        self.memory = self.last_result\n",
    "        \n",
    "    def recall(self):\n",
    "        self.last_result = self.memory\n",
    "        return self.last_result\n",
    "        \n",
    "    def _get_value(self, op):\n",
    "        if op == '':\n",
    "            return self.last_result\n",
    "        elif op == 'memory':\n",
    "            return self.memory\n",
    "        else:\n",
    "            return op\n",
    "        \n",
    "    def __str__(self):\n",
    "        return str(self.last_result)"
   ]
  }
 ],
 "metadata": {
  "kernelspec": {
   "display_name": "Python 3",
   "language": "python",
   "name": "python3"
  },
  "language_info": {
   "codemirror_mode": {
    "name": "ipython",
    "version": 3
   },
   "file_extension": ".py",
   "mimetype": "text/x-python",
   "name": "python",
   "nbconvert_exporter": "python",
   "pygments_lexer": "ipython3",
   "version": "3.11.2"
  },
  "orig_nbformat": 4,
  "vscode": {
   "interpreter": {
    "hash": "a729ac585e6766266d3abc026461d1c51b10b48ff88e8052a60fa7264d936e4a"
   }
  }
 },
 "nbformat": 4,
 "nbformat_minor": 2
}
